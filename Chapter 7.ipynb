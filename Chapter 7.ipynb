{
 "cells": [
  {
   "cell_type": "markdown",
   "metadata": {},
   "source": [
    "# Chapter 7"
   ]
  },
  {
   "cell_type": "markdown",
   "metadata": {},
   "source": [
    "### Exercise 1 - Pig Game"
   ]
  },
  {
   "cell_type": "code",
   "execution_count": 2,
   "metadata": {},
   "outputs": [
    {
     "name": "stdout",
     "output_type": "stream",
     "text": [
      "You are player 2\n"
     ]
    },
    {
     "ename": "NameError",
     "evalue": "name 'player1score' is not defined",
     "output_type": "error",
     "traceback": [
      "\u001b[0;31m---------------------------------------------------------------------------\u001b[0m",
      "\u001b[0;31mNameError\u001b[0m                                 Traceback (most recent call last)",
      "\u001b[0;32m<ipython-input-2-6f586f0b277d>\u001b[0m in \u001b[0;36m<module>\u001b[0;34m\u001b[0m\n\u001b[1;32m      5\u001b[0m \u001b[0mprint\u001b[0m\u001b[0;34m(\u001b[0m\u001b[0;34mf\"You are player {yourplayer}\"\u001b[0m\u001b[0;34m)\u001b[0m\u001b[0;34m\u001b[0m\u001b[0;34m\u001b[0m\u001b[0m\n\u001b[1;32m      6\u001b[0m \u001b[0;34m\u001b[0m\u001b[0m\n\u001b[0;32m----> 7\u001b[0;31m \u001b[0;32mwhile\u001b[0m \u001b[0mplayer1score\u001b[0m \u001b[0;34m<\u001b[0m \u001b[0;36m100\u001b[0m \u001b[0;32mand\u001b[0m \u001b[0mplayer2score\u001b[0m \u001b[0;34m<\u001b[0m \u001b[0;36m100\u001b[0m\u001b[0;34m:\u001b[0m\u001b[0;34m\u001b[0m\u001b[0;34m\u001b[0m\u001b[0m\n\u001b[0m\u001b[1;32m      8\u001b[0m     \u001b[0mprint\u001b[0m\u001b[0;34m(\u001b[0m\u001b[0;34m\"Player 1 score:\"\u001b[0m\u001b[0;34m,\u001b[0m \u001b[0mplayer1score\u001b[0m\u001b[0;34m)\u001b[0m\u001b[0;34m\u001b[0m\u001b[0;34m\u001b[0m\u001b[0m\n\u001b[1;32m      9\u001b[0m     \u001b[0mprint\u001b[0m\u001b[0;34m(\u001b[0m\u001b[0;34m\"Player 2 score:\"\u001b[0m\u001b[0;34m,\u001b[0m \u001b[0mplayer2score\u001b[0m\u001b[0;34m)\u001b[0m\u001b[0;34m\u001b[0m\u001b[0;34m\u001b[0m\u001b[0m\n",
      "\u001b[0;31mNameError\u001b[0m: name 'player1score' is not defined"
     ]
    }
   ],
   "source": [
    "import random\n",
    "random.seed(0)\n",
    "\n",
    "yourplayer = random.randint(1,2)\n",
    "print(f\"You are player {yourplayer}\")\n",
    "computer = 0\n",
    "human = 0\n",
    "current_player = 1\n",
    "\n",
    "while computer < 100 and human < 100:\n",
    "    print(f\"Player {yourplayer} score:\", human)\n",
    "    print(f\"Player {3-yourplayer} score:\", computer)\n",
    "    print(f\"It is player {current_player}'s turn.\")\n",
    "    turntotal = 0\n",
    "    score = human if current_player == yourplayer else computer\n",
    "    roll = 0\n",
    "    while roll != 1 and turntotal < 20 and score + turntotal < 100:\n",
    "        roll = random.randint(1,6)\n",
    "        print(\"Roll:\", roll)\n",
    "        if roll == 1:\n",
    "            turntotal = 0\n",
    "            break\n",
    "        else:\n",
    "            turntotal = turntotal + roll\n",
    "    score = score + turntotal\n",
    "    if current_player == 1:\n",
    "        yourplayer = score\n",
    "    else:\n",
    "        player2score = score\n",
    "    current_player = 3-current_player\n",
    "    print(\"Turn total:\", turntotal)\n",
    "    print(\"New score:\", score)\n",
    "if player1score > player2score:\n",
    "    print(\"Player 1 wins!\")\n",
    "else:\n",
    "    print(\"Player 2 wins!\")\n",
    "        "
   ]
  },
  {
   "cell_type": "markdown",
   "metadata": {},
   "source": [
    "### Exercise 2 - Three Pile Nim"
   ]
  },
  {
   "cell_type": "code",
   "execution_count": null,
   "metadata": {},
   "outputs": [],
   "source": []
  },
  {
   "cell_type": "markdown",
   "metadata": {},
   "source": [
    "### Exercise 3 - Chomp"
   ]
  },
  {
   "cell_type": "code",
   "execution_count": null,
   "metadata": {},
   "outputs": [],
   "source": []
  },
  {
   "cell_type": "markdown",
   "metadata": {},
   "source": [
    "### Exercise 4 - Usernames"
   ]
  },
  {
   "cell_type": "code",
   "execution_count": null,
   "metadata": {},
   "outputs": [],
   "source": [
    "lon = []\n",
    "i = 0\n",
    "\n",
    "while i < 500:\n",
    "    c = 1\n",
    "    name = input(\"PLease give me your first and last name, separated by a space:\").lower()\n",
    "    firstnlast = name.split(\" \")\n",
    "    handle = firstnlast[1][:4] + firstnlast[0][:2]+ \"0\" + str(c)\n",
    "    while handle in lon:\n",
    "        c+=1\n",
    "        handle = handle[:6] + \"0\" + str(c)\n",
    "    \n",
    "    lon.append(handle)\n",
    "    print(lon)\n",
    "    i+=1\n",
    "        \n",
    "print(lon)"
   ]
  },
  {
   "cell_type": "markdown",
   "metadata": {},
   "source": [
    "### Exercise 5 - Nested Tuples"
   ]
  },
  {
   "cell_type": "code",
   "execution_count": 25,
   "metadata": {},
   "outputs": [
    {
     "data": {
      "text/plain": [
       "True"
      ]
     },
     "execution_count": 25,
     "metadata": {},
     "output_type": "execute_result"
    }
   ],
   "source": []
  },
  {
   "cell_type": "code",
   "execution_count": null,
   "metadata": {},
   "outputs": [],
   "source": []
  }
 ],
 "metadata": {
  "kernelspec": {
   "display_name": "Python 3",
   "language": "python",
   "name": "python3"
  },
  "language_info": {
   "codemirror_mode": {
    "name": "ipython",
    "version": 3
   },
   "file_extension": ".py",
   "mimetype": "text/x-python",
   "name": "python",
   "nbconvert_exporter": "python",
   "pygments_lexer": "ipython3",
   "version": "3.8.2"
  }
 },
 "nbformat": 4,
 "nbformat_minor": 4
}
