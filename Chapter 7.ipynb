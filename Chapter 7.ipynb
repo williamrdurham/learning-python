{
 "cells": [
  {
   "cell_type": "markdown",
   "metadata": {},
   "source": [
    "# Chapter 7"
   ]
  },
  {
   "cell_type": "markdown",
   "metadata": {},
   "source": [
    "### Exercise 1 - Pig Game"
   ]
  },
  {
   "cell_type": "code",
   "execution_count": 31,
   "metadata": {},
   "outputs": [
    {
     "name": "stdout",
     "output_type": "stream",
     "text": [
      "You are player number 2.  Enter nothing to roll and anything to hold.\n",
      "Player 1 score: 0\n",
      "Player 2 score: 0\n",
      "It is player 1's turn.\n",
      "Roll: 4\n",
      "Roll: 1\n",
      "Turn total: 0\n",
      "New score: 0\n",
      "Player 1 score: 0\n",
      "Player 2 score: 0\n",
      "It is player 2's turn.\n",
      "Roll: 3\n",
      "Roll or hold?\n",
      "Roll: 5\n",
      "Roll or hold?\n",
      "Roll: 4\n",
      "Roll or hold?\n",
      "Roll: 4\n",
      "Roll or hold?\n",
      "Roll: 3\n",
      "Roll or hold?\n",
      "Roll: 4\n",
      "Roll or hold?\n",
      "Roll: 3\n",
      "Roll or hold?\n",
      "Roll: 5\n",
      "Roll or hold?\n",
      "Roll: 2\n",
      "Roll or hold?\n",
      "Roll: 5\n",
      "Roll or hold?\n",
      "Roll: 2\n",
      "Roll or hold?hold\n",
      "Turn total: 40\n",
      "New score: 40\n",
      "Player 1 score: 0\n",
      "Player 2 score: 40\n",
      "It is player 1's turn.\n",
      "Roll: 3\n",
      "Roll: 2\n",
      "Roll: 1\n",
      "Turn total: 0\n",
      "New score: 0\n",
      "Player 1 score: 0\n",
      "Player 2 score: 40\n",
      "It is player 2's turn.\n",
      "Roll: 5\n",
      "Roll or hold?\n",
      "Roll: 3\n",
      "Roll or hold?\n",
      "Roll: 5\n",
      "Roll or hold?\n",
      "Roll: 6\n",
      "Roll or hold?\n",
      "Roll: 5\n",
      "Roll or hold?\n",
      "Roll: 2\n",
      "Roll or hold?\n",
      "Roll: 3\n",
      "Roll or hold?hold\n",
      "Turn total: 29\n",
      "New score: 69\n",
      "Player 1 score: 0\n",
      "Player 2 score: 69\n",
      "It is player 1's turn.\n",
      "Roll: 1\n",
      "Turn total: 0\n",
      "New score: 0\n",
      "Player 1 score: 0\n",
      "Player 2 score: 69\n",
      "It is player 2's turn.\n",
      "Roll: 6\n",
      "Roll or hold?\n",
      "Roll: 1\n",
      "Turn total: 0\n",
      "New score: 69\n",
      "Player 1 score: 0\n",
      "Player 2 score: 69\n",
      "It is player 1's turn.\n",
      "Roll: 6\n",
      "Roll: 3\n",
      "Roll: 4\n",
      "Roll: 5\n",
      "Roll: 1\n",
      "Turn total: 0\n",
      "New score: 0\n",
      "Player 1 score: 0\n",
      "Player 2 score: 69\n",
      "It is player 2's turn.\n",
      "Roll: 3\n",
      "Roll or hold?\n",
      "Roll: 4\n",
      "Roll or hold?\n",
      "Roll: 3\n",
      "Roll or hold?\n",
      "Roll: 5\n",
      "Roll or hold?\n",
      "Roll: 6\n",
      "Roll or hold?\n",
      "Roll: 2\n",
      "Roll or hold?hold\n",
      "Turn total: 23\n",
      "New score: 92\n",
      "Player 1 score: 0\n",
      "Player 2 score: 92\n",
      "It is player 1's turn.\n",
      "Roll: 5\n",
      "Roll: 4\n",
      "Roll: 4\n",
      "Roll: 5\n",
      "Roll: 3\n",
      "Turn total: 21\n",
      "New score: 21\n",
      "Player 1 score: 21\n",
      "Player 2 score: 92\n",
      "It is player 2's turn.\n",
      "Roll: 1\n",
      "Turn total: 0\n",
      "New score: 92\n",
      "Player 1 score: 21\n",
      "Player 2 score: 92\n",
      "It is player 1's turn.\n",
      "Roll: 5\n",
      "Roll: 1\n",
      "Turn total: 0\n",
      "New score: 21\n",
      "Player 1 score: 21\n",
      "Player 2 score: 92\n",
      "It is player 2's turn.\n",
      "Roll: 1\n",
      "Turn total: 0\n",
      "New score: 92\n",
      "Player 1 score: 21\n",
      "Player 2 score: 92\n",
      "It is player 1's turn.\n",
      "Roll: 6\n",
      "Roll: 4\n",
      "Roll: 6\n",
      "Roll: 6\n",
      "Turn total: 22\n",
      "New score: 43\n",
      "Player 1 score: 43\n",
      "Player 2 score: 92\n",
      "It is player 2's turn.\n",
      "Roll: 6\n",
      "Roll or hold?\n",
      "Roll: 1\n",
      "Turn total: 0\n",
      "New score: 92\n",
      "Player 1 score: 43\n",
      "Player 2 score: 92\n",
      "It is player 1's turn.\n",
      "Roll: 5\n",
      "Roll: 4\n",
      "Roll: 3\n",
      "Roll: 2\n",
      "Roll: 6\n",
      "Turn total: 20\n",
      "New score: 63\n",
      "Player 1 score: 63\n",
      "Player 2 score: 92\n",
      "It is player 2's turn.\n",
      "Roll: 3\n",
      "Roll or hold?\n",
      "Roll: 6\n",
      "Roll or hold?hold\n",
      "Turn total: 9\n",
      "New score: 101\n",
      "Player 2 wins!\n"
     ]
    }
   ],
   "source": [
    "import random\n",
    "random.seed(0)\n",
    "\n",
    "playernum = random.randint(0,1)\n",
    "print(f\"You are player number {playernum +1}.  Enter nothing to roll and anything to hold.\")\n",
    "\n",
    "score = [0, 0]\n",
    "current_player = 0\n",
    "\n",
    "while score[0] < 100 and score[1] < 100:\n",
    "    print(\"Player 1 score:\", score[0])\n",
    "    print(\"Player 2 score:\", score[1])\n",
    "    print(f\"It is player {current_player+1}'s turn.\")\n",
    "    turntotal = 0\n",
    "    roll = 0\n",
    "    cont = \"\"\n",
    "    while roll != 1 and current_player == playernum and cont == \"\":\n",
    "        roll = random.randint(1,6)\n",
    "        print(\"Roll:\", roll)\n",
    "        if roll == 1:\n",
    "            turntotal = 0\n",
    "            break\n",
    "        else:\n",
    "            turntotal = turntotal + roll\n",
    "        cont = input(\"Roll or hold?\")\n",
    "    else:\n",
    "        while roll != 1 and turntotal < 20 and score[current_player] + turntotal < 100:\n",
    "            roll = random.randint(1,6)\n",
    "            print(\"Roll:\", roll)\n",
    "            if roll == 1:\n",
    "                turntotal = 0\n",
    "                break\n",
    "            else:\n",
    "                turntotal = turntotal + roll\n",
    "    score[current_player] = score[current_player] + turntotal\n",
    "    print(\"Turn total:\", turntotal)\n",
    "    print(\"New score:\", score[current_player])\n",
    "    current_player = 1-current_player\n",
    "if score[0] > score[1]:\n",
    "    print(\"Player 1 wins!\")\n",
    "else:\n",
    "    print(\"Player 2 wins!\")\n",
    "        \n"
   ]
  },
  {
   "cell_type": "markdown",
   "metadata": {},
   "source": [
    "### Exercise 2 - Three Pile Nim"
   ]
  },
  {
   "cell_type": "code",
   "execution_count": 52,
   "metadata": {},
   "outputs": [
    {
     "name": "stdout",
     "output_type": "stream",
     "text": [
      "Enter pile sizes:1 3 5\n",
      "0 *\n",
      "1 ***\n",
      "2 *****\n",
      "It is player 1's turn\n",
      "Enter a pile and a number of bits to take away.2 5\n",
      "0 *\n",
      "1 ***\n",
      "2 \n",
      "It is player 2's turn\n",
      "Enter a pile and a number of bits to take away.1 3\n",
      "0 *\n",
      "1 \n",
      "2 \n",
      "It is player 1's turn\n",
      "Enter a pile and a number of bits to take away.0 1\n",
      "0 \n",
      "1 \n",
      "2 \n",
      "Player 1 wins!\n"
     ]
    }
   ],
   "source": [
    "pile_sizes = input(\"Enter pile sizes:\")\n",
    "pile_sizes = pile_sizes.split(\" \")\n",
    "print('0', '*' * int(pile_sizes[0]))\n",
    "print('1', '*' * int(pile_sizes[1]))\n",
    "print('2', '*' * int(pile_sizes[2]))\n",
    "current_player = 1\n",
    "\n",
    "while (int(pile_sizes[0]) + int(pile_sizes[1]) + int(pile_sizes[2])) > 0:\n",
    "    print(f\"It is player {current_player}'s turn\")\n",
    "    takeaway = input(\"Enter a pile and a number of bits to take away.\")\n",
    "    takeaway = takeaway.split(\" \")\n",
    "    t0 = int(takeaway[0])\n",
    "    t1 = int(takeaway[1])\n",
    "    pile_sizes[t0] = int(pile_sizes[t0]) - t1\n",
    "    print(\"0\", '*' * int(pile_sizes[0]))\n",
    "    print(\"1\", '*' * int(pile_sizes[1]))\n",
    "    print(\"2\", '*' * int(pile_sizes[2]))\n",
    "    if (int(pile_sizes[0]) + int(pile_sizes[1]) + int(pile_sizes[2]) == 0 and current_player == 1):\n",
    "        print(\"Player 1 wins!\")\n",
    "    elif (int(pile_sizes[0]) + int(pile_sizes[1]) + int(pile_sizes[2]) == 0 and current_player == 2):\n",
    "        print(\"Player 2 wins!\")\n",
    "    current_player = 3 - current_player\n"
   ]
  },
  {
   "cell_type": "markdown",
   "metadata": {},
   "source": [
    "### Exercise 3 - Chomp"
   ]
  },
  {
   "cell_type": "code",
   "execution_count": 18,
   "metadata": {},
   "outputs": [
    {
     "name": "stdout",
     "output_type": "stream",
     "text": [
      "Enter the dimension for the board separated by a space: 3 3\n",
      "0 #  #  # \n",
      "1 #  #  # \n",
      "2 #  #  # \n",
      "Player 1, what is your move?0 2\n",
      "0 #  # \n",
      "1 #  # \n",
      "2 #  # \n",
      "Player 2, what is your move?1 1\n",
      "0 #  # \n",
      "1 # \n",
      "2 # \n",
      "Player 1, what is your move?2 0\n",
      "0 #  # \n",
      "1 # \n",
      "2\n",
      "Player 2, what is your move?1 0\n",
      "0 #  # \n",
      "1\n",
      "2\n",
      "Player 1, what is your move?1 1\n",
      "0 #  # \n",
      "1\n",
      "2\n",
      "Player 2, what is your move?0 1\n",
      "0 # \n",
      "1\n",
      "2\n",
      "Player 1, what is your move?0 0\n",
      "Player 2 wins!\n"
     ]
    }
   ],
   "source": [
    "dimen = input(\"Enter the dimension for the board separated by a space: \")\n",
    "dimen = dimen.split(\" \")\n",
    "rows = int(dimen[0])\n",
    "cols = int(dimen[1])\n",
    "\n",
    "board = rows * [cols]\n",
    "current_player = 1\n",
    "\n",
    "while sum(board) > 0:\n",
    "    ## Display Board \n",
    "    print(\"\\n\".join(str(i) + \" # \" * board[i] for i in range(rows)))\n",
    "    \n",
    "    ## Player Input\n",
    "    move = input(f\"Player {current_player}, what is your move?\")\n",
    "    move = move.split(\" \")\n",
    "    moveRow, moveCol = int(move[0]), int(move[1])\n",
    "    \n",
    "    ## Make move\n",
    "    while moveRow < rows:\n",
    "        board[moveRow] = min(moveCol, board[moveRow])\n",
    "        moveRow += 1\n",
    "        \n",
    "    ## Switch Players\n",
    "    current_player = 3 - current_player\n",
    "    \n",
    "print(f\"Player {current_player} wins!\")"
   ]
  },
  {
   "cell_type": "markdown",
   "metadata": {},
   "source": [
    "### Length of list => number of rows\n"
   ]
  },
  {
   "cell_type": "markdown",
   "metadata": {},
   "source": [
    "### Exercise 4 - Usernames"
   ]
  },
  {
   "cell_type": "code",
   "execution_count": null,
   "metadata": {},
   "outputs": [
    {
     "name": "stdout",
     "output_type": "stream",
     "text": [
      "PLease give me your first and last name, separated by a space:Will Durham\n",
      "['durhwi01']\n"
     ]
    }
   ],
   "source": [
    "lon = []\n",
    "i = 0\n",
    "\n",
    "while i < 500:\n",
    "    c = 1\n",
    "    name = input(\"PLease give me your first and last name, separated by a space:\").lower()\n",
    "    firstnlast = name.split(\" \")\n",
    "    handle = firstnlast[1][:4] + firstnlast[0][:2]+ \"0\" + str(c)\n",
    "    while handle in lon:\n",
    "        c+=1\n",
    "        handle = handle[:6] + \"0\" + str(c)\n",
    "    \n",
    "    lon.append(handle)\n",
    "    print(lon)\n",
    "    i+=1\n",
    "        \n",
    "print(lon)"
   ]
  },
  {
   "cell_type": "markdown",
   "metadata": {},
   "source": [
    "### Exercise 5 - Nested Tuples"
   ]
  },
  {
   "cell_type": "code",
   "execution_count": 3,
   "metadata": {},
   "outputs": [
    {
     "name": "stdout",
     "output_type": "stream",
     "text": [
      "Give me an integer: 20\n"
     ]
    },
    {
     "name": "stderr",
     "output_type": "stream",
     "text": [
      "IOPub data rate exceeded.\n",
      "The notebook server will temporarily stop sending output\n",
      "to the client in order to avoid crashing it.\n",
      "To change this limit, set the config variable\n",
      "`--NotebookApp.iopub_data_rate_limit`.\n",
      "\n",
      "Current values:\n",
      "NotebookApp.iopub_data_rate_limit=1000000.0 (bytes/sec)\n",
      "NotebookApp.rate_limit_window=3.0 (secs)\n",
      "\n"
     ]
    }
   ],
   "source": [
    "n = int(input(\"Give me an integer: \"))\n",
    "i = 0\n",
    "tup = ()\n",
    "while i < n:\n",
    "    tup += tuple((tup,))\n",
    "    i += 1\n",
    "print(tup)"
   ]
  },
  {
   "cell_type": "markdown",
   "metadata": {},
   "source": [
    "### Exercise 6 - Creating copy"
   ]
  },
  {
   "cell_type": "code",
   "execution_count": 95,
   "metadata": {},
   "outputs": [
    {
     "name": "stdout",
     "output_type": "stream",
     "text": [
      "[1, 2, 3, 4, 5]\n"
     ]
    }
   ],
   "source": [
    "a = [1,2,3,4,5]\n",
    "i = 0\n",
    "while i < len(a):\n",
    "    b = []\n",
    "    j = 0\n",
    "    while j <= i:\n",
    "        b.append(a[j])\n",
    "        j += 1\n",
    "    i += 1    \n",
    "print(b)"
   ]
  },
  {
   "cell_type": "markdown",
   "metadata": {},
   "source": [
    "### Exercise 7"
   ]
  },
  {
   "cell_type": "code",
   "execution_count": 17,
   "metadata": {},
   "outputs": [
    {
     "name": "stdout",
     "output_type": "stream",
     "text": [
      "[1, 2, 3, 4, 5, 6, 7, 8, 9, 10, 11, 12]\n"
     ]
    }
   ],
   "source": [
    "a = [1, 2, [3, 4, [5, 6], 7], [8, 9, [10, 11]], 12]\n",
    "i = 0\n",
    "b = []\n",
    "while i < len(a):\n",
    "    if type(a[i]) == int:\n",
    "        b.append(a[i])\n",
    "    elif type(a[i]) == list:\n",
    "        j = 0\n",
    "        while j < len(a[i]):\n",
    "            if type(a[i][j]) == int:\n",
    "                b.append(a[i][j])\n",
    "            elif type(a[i][j]) == list:\n",
    "                k = 0\n",
    "                while k < len(a[i][j]):\n",
    "                    b.append(a[i][j][k])\n",
    "                    k +=1\n",
    "            j+=1\n",
    "    i+=1\n",
    "\n",
    "print(b)"
   ]
  },
  {
   "cell_type": "code",
   "execution_count": 30,
   "metadata": {},
   "outputs": [
    {
     "name": "stdout",
     "output_type": "stream",
     "text": [
      "[1, 2, 3, 4, 5, 6, 7, 8, 9, 10, 11, 12]\n"
     ]
    }
   ],
   "source": [
    "# Update\n",
    "a = [1, 2, [3, 4, [5, 6], 7], [8, 9, [10, 11]], 12]\n",
    "b = []\n",
    "while len(a) > 0:\n",
    "    c = a.pop()\n",
    "    if type(c) == int:\n",
    "        b.append(c)\n",
    "    else:\n",
    "        a.extend(c)\n",
    "b = b[::-1]\n",
    "print(b)"
   ]
  },
  {
   "cell_type": "markdown",
   "metadata": {},
   "source": [
    "### Exercise 8 - Shuffling a list"
   ]
  },
  {
   "cell_type": "code",
   "execution_count": 95,
   "metadata": {},
   "outputs": [
    {
     "name": "stdout",
     "output_type": "stream",
     "text": [
      "[7, 1, 5, 8, 6, 4, 3, 2]\n"
     ]
    }
   ],
   "source": [
    "import random\n",
    "random.seed(0)\n",
    "lint = [1,2,3,4,5,6,7,8]\n",
    "i = 0\n",
    "permlint = []\n",
    "\n",
    "while i < len(lint):\n",
    "    roll = random.randint(0, len(lint)-1)\n",
    "    if lint[roll] not in permlint:\n",
    "        permlint.append(lint[roll])\n",
    "    else:\n",
    "        continue\n",
    "    i+=1\n",
    "\n",
    "print(permlint)"
   ]
  },
  {
   "cell_type": "code",
   "execution_count": 7,
   "metadata": {},
   "outputs": [
    {
     "name": "stdout",
     "output_type": "stream",
     "text": [
      "[5, 2, 6, 3, 1, 4, 8, 7]\n"
     ]
    }
   ],
   "source": [
    "import random\n",
    "random.seed(0)\n",
    "lint = [1,2,3,4,5,6,7,8]\n",
    "random.shuffle(lint)\n",
    "print(lint)"
   ]
  },
  {
   "cell_type": "markdown",
   "metadata": {},
   "source": [
    "### Exercise 9 - Reversing a list"
   ]
  },
  {
   "cell_type": "code",
   "execution_count": 65,
   "metadata": {},
   "outputs": [
    {
     "name": "stdout",
     "output_type": "stream",
     "text": [
      "[8, 7, 6, 5, 4, 3, 2, 1]\n"
     ]
    }
   ],
   "source": [
    "a = [1, 2, 3, 4, 5, 6, 7, 8]\n",
    "a.reverse()\n",
    "b = a\n",
    "print(b)"
   ]
  },
  {
   "cell_type": "code",
   "execution_count": 85,
   "metadata": {},
   "outputs": [
    {
     "name": "stdout",
     "output_type": "stream",
     "text": [
      "[8, 7, 6, 5, 4, 3, 2, 1]\n"
     ]
    }
   ],
   "source": [
    "a = [1, 2, 3, 4, 5, 6, 7, 8]\n",
    "i = 0\n",
    "while i < len(a):\n",
    "    b = []\n",
    "    j = 0\n",
    "    while j <= i:\n",
    "        b.append(a[-j-1])\n",
    "        j += 1\n",
    "    i += 1    \n",
    "print(b)"
   ]
  }
 ],
 "metadata": {
  "kernelspec": {
   "display_name": "Python 3",
   "language": "python",
   "name": "python3"
  },
  "language_info": {
   "codemirror_mode": {
    "name": "ipython",
    "version": 3
   },
   "file_extension": ".py",
   "mimetype": "text/x-python",
   "name": "python",
   "nbconvert_exporter": "python",
   "pygments_lexer": "ipython3",
   "version": "3.8.2"
  }
 },
 "nbformat": 4,
 "nbformat_minor": 4
}
