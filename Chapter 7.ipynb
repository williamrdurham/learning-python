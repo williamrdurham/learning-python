{
 "cells": [
  {
   "cell_type": "markdown",
   "metadata": {},
   "source": [
    "# Chapter 7"
   ]
  },
  {
   "cell_type": "markdown",
   "metadata": {},
   "source": [
    "### Exercise 1 - Pig Game"
   ]
  },
  {
   "cell_type": "code",
   "execution_count": null,
   "metadata": {},
   "outputs": [],
   "source": []
  },
  {
   "cell_type": "markdown",
   "metadata": {},
   "source": [
    "### Exercise 2 - Three Pile Nim"
   ]
  },
  {
   "cell_type": "code",
   "execution_count": 52,
   "metadata": {},
   "outputs": [
    {
     "name": "stdout",
     "output_type": "stream",
     "text": [
      "Enter pile sizes:1 3 5\n",
      "0 *\n",
      "1 ***\n",
      "2 *****\n",
      "It is player 1's turn\n",
      "Enter a pile and a number of bits to take away.2 5\n",
      "0 *\n",
      "1 ***\n",
      "2 \n",
      "It is player 2's turn\n",
      "Enter a pile and a number of bits to take away.1 3\n",
      "0 *\n",
      "1 \n",
      "2 \n",
      "It is player 1's turn\n",
      "Enter a pile and a number of bits to take away.0 1\n",
      "0 \n",
      "1 \n",
      "2 \n",
      "Player 1 wins!\n"
     ]
    }
   ],
   "source": [
    "pile_sizes = input(\"Enter pile sizes:\")\n",
    "pile_sizes = pile_sizes.split(\" \")\n",
    "print('0', '*' * int(pile_sizes[0]))\n",
    "print('1', '*' * int(pile_sizes[1]))\n",
    "print('2', '*' * int(pile_sizes[2]))\n",
    "current_player = 1\n",
    "\n",
    "while (int(pile_sizes[0]) + int(pile_sizes[1]) + int(pile_sizes[2])) > 0:\n",
    "    print(f\"It is player {current_player}'s turn\")\n",
    "    takeaway = input(\"Enter a pile and a number of bits to take away.\")\n",
    "    takeaway = takeaway.split(\" \")\n",
    "    t0 = int(takeaway[0])\n",
    "    t1 = int(takeaway[1])\n",
    "    pile_sizes[t0] = int(pile_sizes[t0]) - t1\n",
    "    print(\"0\", '*' * int(pile_sizes[0]))\n",
    "    print(\"1\", '*' * int(pile_sizes[1]))\n",
    "    print(\"2\", '*' * int(pile_sizes[2]))\n",
    "    if (int(pile_sizes[0]) + int(pile_sizes[1]) + int(pile_sizes[2]) == 0 and current_player == 1):\n",
    "        print(\"Player 1 wins!\")\n",
    "    elif (int(pile_sizes[0]) + int(pile_sizes[1]) + int(pile_sizes[2]) == 0 and current_player == 2):\n",
    "        print(\"Player 2 wins!\")\n",
    "    current_player = 3 - current_player\n"
   ]
  },
  {
   "cell_type": "markdown",
   "metadata": {},
   "source": [
    "### Exercise 3 - Chomp"
   ]
  },
  {
   "cell_type": "code",
   "execution_count": null,
   "metadata": {},
   "outputs": [
    {
     "name": "stdout",
     "output_type": "stream",
     "text": [
      "Enter the dimension for the board separated by a space: 4 4 4 4\n",
      "[4, 4, 4, 4]\n"
     ]
    }
   ],
   "source": [
    "dimen = input(\"Enter the dimension for the board separated by a space: \")\n",
    "dimen = dimen.split(\" \")\n",
    "rows = int(dimen[0])\n",
    "cols = int(dimen[1])\n",
    "\n",
    "board = [cols] * rows\n",
    "print(board)\n",
    "\n",
    "currentPlayer = 1\n",
    "\n",
    "move = input(f\"Player {currentPlayer}, what is your move?\")\n",
    "move = move.split(\" \")\n",
    "moveRow = int(move[0])\n",
    "moveCol = int(move[1])\n",
    "\n",
    "board[moveRow] = board[moveRow] - moveCol"
   ]
  },
  {
   "cell_type": "markdown",
   "metadata": {},
   "source": [
    "### Exercise 4 - Usernames"
   ]
  },
  {
   "cell_type": "code",
   "execution_count": null,
   "metadata": {},
   "outputs": [
    {
     "name": "stdout",
     "output_type": "stream",
     "text": [
      "PLease give me your first and last name, separated by a space:Will Durham\n",
      "['durhwi01']\n"
     ]
    }
   ],
   "source": [
    "lon = []\n",
    "i = 0\n",
    "\n",
    "while i < 500:\n",
    "    c = 1\n",
    "    name = input(\"PLease give me your first and last name, separated by a space:\").lower()\n",
    "    firstnlast = name.split(\" \")\n",
    "    handle = firstnlast[1][:4] + firstnlast[0][:2]+ \"0\" + str(c)\n",
    "    while handle in lon:\n",
    "        c+=1\n",
    "        handle = handle[:6] + \"0\" + str(c)\n",
    "    \n",
    "    lon.append(handle)\n",
    "    print(lon)\n",
    "    i+=1\n",
    "        \n",
    "print(lon)"
   ]
  },
  {
   "cell_type": "markdown",
   "metadata": {},
   "source": [
    "### Exercise 5 - Nested Tuples"
   ]
  },
  {
   "cell_type": "code",
   "execution_count": 98,
   "metadata": {},
   "outputs": [
    {
     "name": "stdout",
     "output_type": "stream",
     "text": [
      "Give me an integer: 5\n",
      "((), ((),), ((), ((),)), ((), ((),), ((), ((),))), ((), ((),), ((), ((),)), ((), ((),), ((), ((),)))))\n"
     ]
    }
   ],
   "source": [
    "n = int(input(\"Give me an integer: \"))\n",
    "i = 0\n",
    "tup = ()\n",
    "while i < n:\n",
    "    tup += tuple((tup,))\n",
    "    i += 1\n",
    "print(tup)"
   ]
  },
  {
   "cell_type": "code",
   "execution_count": null,
   "metadata": {},
   "outputs": [],
   "source": []
  },
  {
   "cell_type": "code",
   "execution_count": null,
   "metadata": {},
   "outputs": [],
   "source": []
  }
 ],
 "metadata": {
  "kernelspec": {
   "display_name": "Python 3",
   "language": "python",
   "name": "python3"
  },
  "language_info": {
   "codemirror_mode": {
    "name": "ipython",
    "version": 3
   },
   "file_extension": ".py",
   "mimetype": "text/x-python",
   "name": "python",
   "nbconvert_exporter": "python",
   "pygments_lexer": "ipython3",
   "version": "3.8.2"
  }
 },
 "nbformat": 4,
 "nbformat_minor": 4
}
