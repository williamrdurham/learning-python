{
 "cells": [
  {
   "cell_type": "markdown",
   "metadata": {},
   "source": [
    "# Chapter 7"
   ]
  },
  {
   "cell_type": "markdown",
   "metadata": {},
   "source": [
    "### Exercise 1 - Pig Game"
   ]
  },
  {
   "cell_type": "code",
   "execution_count": 2,
   "metadata": {},
   "outputs": [
    {
     "name": "stdout",
     "output_type": "stream",
     "text": [
      "You are player 2\n",
      "Enter nothing to roll, enter anything to hold.\n",
      "Player 1 score: 0\n",
      "Player 2 score: 0\n",
      "It is player 1's turn.\n",
      "Roll: 4\n",
      "Roll: 1\n",
      "Turn total: 0\n",
      "New score: 0\n",
      "Player 1 score: 0\n",
      "Player 2 score: 0\n",
      "It is player 2's turn.\n",
      "Roll: 3\n",
      "Roll: 5\n",
      "Roll: 4\n",
      "Roll: 4\n",
      "Roll: 3\n",
      "Roll: 4\n",
      "Turn total: 23\n",
      "New score: 23\n",
      "Player 1 score: 0\n",
      "Player 2 score: 23\n",
      "It is player 1's turn.\n",
      "Roll: 3\n",
      "Roll: 5\n",
      "Roll: 2\n",
      "Roll: 5\n",
      "Roll: 2\n",
      "Roll: 3\n",
      "Turn total: 20\n",
      "New score: 20\n",
      "Player 1 score: 20\n",
      "Player 2 score: 23\n",
      "It is player 2's turn.\n",
      "Roll: 2\n",
      "Roll: 1\n",
      "Turn total: 0\n",
      "New score: 23\n",
      "Player 1 score: 20\n",
      "Player 2 score: 23\n",
      "It is player 1's turn.\n",
      "Roll: 5\n",
      "Roll: 3\n",
      "Roll: 5\n",
      "Roll: 6\n",
      "Roll: 5\n",
      "Turn total: 24\n",
      "New score: 44\n",
      "Player 1 score: 44\n",
      "Player 2 score: 23\n",
      "It is player 2's turn.\n",
      "Roll: 2\n",
      "Roll: 3\n",
      "Roll: 1\n",
      "Turn total: 0\n",
      "New score: 23\n",
      "Player 1 score: 44\n",
      "Player 2 score: 23\n",
      "It is player 1's turn.\n",
      "Roll: 6\n",
      "Roll: 1\n",
      "Turn total: 0\n",
      "New score: 44\n",
      "Player 1 score: 44\n",
      "Player 2 score: 23\n",
      "It is player 2's turn.\n",
      "Roll: 6\n",
      "Roll: 3\n",
      "Roll: 4\n",
      "Roll: 5\n",
      "Roll: 1\n",
      "Turn total: 0\n",
      "New score: 23\n",
      "Player 1 score: 44\n",
      "Player 2 score: 23\n",
      "It is player 1's turn.\n",
      "Roll: 3\n",
      "Roll: 4\n",
      "Roll: 3\n",
      "Roll: 5\n",
      "Roll: 6\n",
      "Turn total: 21\n",
      "New score: 65\n",
      "Player 1 score: 65\n",
      "Player 2 score: 23\n",
      "It is player 2's turn.\n",
      "Roll: 2\n",
      "Roll: 5\n",
      "Roll: 4\n",
      "Roll: 4\n",
      "Roll: 5\n",
      "Turn total: 20\n",
      "New score: 43\n",
      "Player 1 score: 65\n",
      "Player 2 score: 43\n",
      "It is player 1's turn.\n",
      "Roll: 3\n",
      "Roll: 1\n",
      "Turn total: 0\n",
      "New score: 65\n",
      "Player 1 score: 65\n",
      "Player 2 score: 43\n",
      "It is player 2's turn.\n",
      "Roll: 5\n",
      "Roll: 1\n",
      "Turn total: 0\n",
      "New score: 43\n",
      "Player 1 score: 65\n",
      "Player 2 score: 43\n",
      "It is player 1's turn.\n",
      "Roll: 1\n",
      "Turn total: 0\n",
      "New score: 65\n",
      "Player 1 score: 65\n",
      "Player 2 score: 43\n",
      "It is player 2's turn.\n",
      "Roll: 6\n",
      "Roll: 4\n",
      "Roll: 6\n",
      "Roll: 6\n",
      "Turn total: 22\n",
      "New score: 65\n",
      "Player 1 score: 65\n",
      "Player 2 score: 65\n",
      "It is player 1's turn.\n",
      "Roll: 6\n",
      "Roll: 1\n",
      "Turn total: 0\n",
      "New score: 65\n",
      "Player 1 score: 65\n",
      "Player 2 score: 65\n",
      "It is player 2's turn.\n",
      "Roll: 5\n",
      "Roll: 4\n",
      "Roll: 3\n",
      "Roll: 2\n",
      "Roll: 6\n",
      "Turn total: 20\n",
      "New score: 85\n",
      "Player 1 score: 65\n",
      "Player 2 score: 85\n",
      "It is player 1's turn.\n",
      "Roll: 3\n",
      "Roll: 6\n",
      "Roll: 1\n",
      "Turn total: 0\n",
      "New score: 65\n",
      "Player 1 score: 65\n",
      "Player 2 score: 85\n",
      "It is player 2's turn.\n",
      "Roll: 2\n",
      "Roll: 5\n",
      "Roll: 2\n",
      "Roll: 2\n",
      "Roll: 2\n",
      "Roll: 5\n",
      "Turn total: 18\n",
      "New score: 103\n",
      "Player 2 wins!\n"
     ]
    }
   ],
   "source": [
    "import random\n",
    "random.seed(0)\n",
    "\n",
    "human = random.randint(0,1)\n",
    "if human == 0:\n",
    "    print(\"You are player 1\")\n",
    "else:\n",
    "    print(\"You are player 2\")\n",
    "print(\"Enter nothing to roll, enter anything to hold.\")\n",
    "\n",
    "player1score = 0\n",
    "player2score = 0\n",
    "current_player = 1\n",
    "\n",
    "\n",
    "\n",
    "while player1score < 100 and player2score < 100:\n",
    "    print(\"Player 1 score:\", player1score)\n",
    "    print(\"Player 2 score:\", player2score)\n",
    "    print(f\"It is player {current_player}'s turn.\")\n",
    "    turntotal = 0\n",
    "    score = player1score if current_player == 1 else player2score\n",
    "    roll = 0\n",
    "    while roll != 1 and turntotal < 20 and score + turntotal < 100:\n",
    "        roll = random.randint(1,6)\n",
    "        print(\"Roll:\", roll)\n",
    "        if roll == 1:\n",
    "            turntotal = 0\n",
    "            break\n",
    "        else:\n",
    "            turntotal = turntotal + roll\n",
    "    score = score + turntotal\n",
    "    if current_player == 1:\n",
    "        player1score = score\n",
    "    else:\n",
    "        player2score = score\n",
    "    current_player = 3-current_player\n",
    "    print(\"Turn total:\", turntotal)\n",
    "    print(\"New score:\", score)\n",
    "if player1score > player2score:\n",
    "    print(\"Player 1 wins!\")\n",
    "else:\n",
    "    print(\"Player 2 wins!\")\n",
    "        "
   ]
  },
  {
   "cell_type": "markdown",
   "metadata": {},
   "source": [
    "### Exercise 2 - Three Pile Nim"
   ]
  },
  {
   "cell_type": "code",
   "execution_count": null,
   "metadata": {},
   "outputs": [],
   "source": []
  },
  {
   "cell_type": "markdown",
   "metadata": {},
   "source": [
    "### Exercise 3 - Chomp"
   ]
  },
  {
   "cell_type": "code",
   "execution_count": null,
   "metadata": {},
   "outputs": [],
   "source": []
  },
  {
   "cell_type": "markdown",
   "metadata": {},
   "source": [
    "### Exercise 4 - Usernames"
   ]
  },
  {
   "cell_type": "code",
   "execution_count": 59,
   "metadata": {},
   "outputs": [
    {
     "ename": "SyntaxError",
     "evalue": "invalid syntax (<ipython-input-59-e6307b0d1959>, line 12)",
     "output_type": "error",
     "traceback": [
      "\u001b[0;36m  File \u001b[0;32m\"<ipython-input-59-e6307b0d1959>\"\u001b[0;36m, line \u001b[0;32m12\u001b[0m\n\u001b[0;31m    handle = handle.replace(\"1\", str(c+=1))\u001b[0m\n\u001b[0m                                      ^\u001b[0m\n\u001b[0;31mSyntaxError\u001b[0m\u001b[0;31m:\u001b[0m invalid syntax\n"
     ]
    }
   ],
   "source": [
    "lon = []\n",
    "i = 0\n",
    "c = 1\n",
    "hcount =0\n",
    "while i < 3:\n",
    "    fname = input(\"First name:\")\n",
    "    lname = input(\"Last name:\")\n",
    "    \n",
    "        \n",
    "    print(lon)"
   ]
  },
  {
   "cell_type": "code",
   "execution_count": 23,
   "metadata": {},
   "outputs": [
    {
     "data": {
      "text/plain": [
       "False"
      ]
     },
     "execution_count": 23,
     "metadata": {},
     "output_type": "execute_result"
    }
   ],
   "source": [
    "3 not in [2, 3, 4]"
   ]
  },
  {
   "cell_type": "code",
   "execution_count": 25,
   "metadata": {},
   "outputs": [
    {
     "data": {
      "text/plain": [
       "True"
      ]
     },
     "execution_count": 25,
     "metadata": {},
     "output_type": "execute_result"
    }
   ],
   "source": [
    "l = ['franpe01', 'franpe02', 'franpe03']"
   ]
  },
  {
   "cell_type": "code",
   "execution_count": null,
   "metadata": {},
   "outputs": [],
   "source": []
  }
 ],
 "metadata": {
  "kernelspec": {
   "display_name": "Python 3",
   "language": "python",
   "name": "python3"
  },
  "language_info": {
   "codemirror_mode": {
    "name": "ipython",
    "version": 3
   },
   "file_extension": ".py",
   "mimetype": "text/x-python",
   "name": "python",
   "nbconvert_exporter": "python",
   "pygments_lexer": "ipython3",
   "version": "3.8.2"
  }
 },
 "nbformat": 4,
 "nbformat_minor": 4
}
