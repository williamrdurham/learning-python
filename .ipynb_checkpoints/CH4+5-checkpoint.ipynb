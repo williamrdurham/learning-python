{
 "cells": [
  {
   "cell_type": "markdown",
   "metadata": {},
   "source": [
    "# Chapters 4 and 5"
   ]
  },
  {
   "cell_type": "markdown",
   "metadata": {},
   "source": [
    "### Exercise 1 (redo of Ch. 2: 7-10, 12 and Ch. 3: 6, 7)."
   ]
  },
  {
   "cell_type": "markdown",
   "metadata": {},
   "source": [
    "Let's start with Ch. 2, 7-10"
   ]
  },
  {
   "cell_type": "markdown",
   "metadata": {},
   "source": [
    "#### Ex 7"
   ]
  },
  {
   "cell_type": "code",
   "execution_count": null,
   "metadata": {},
   "outputs": [],
   "source": [
    "f = float(input(\"Give me temperature in Fahrenheit: \"))\n",
    "c = (5/9)*(f-32)\n",
    "print(f, \"degrees Fahrenheit is the input.\")\n",
    "print(f, \"degrees Fahrenheit is\", c, \"degrees Celsius.\")"
   ]
  },
  {
   "cell_type": "code",
   "execution_count": null,
   "metadata": {},
   "outputs": [],
   "source": [
    "c = float(input(\"Give me temperature in Celsius: \"))\n",
    "f = (9/5)*c + 32\n",
    "print(c, \"degrees Celsius is the input.\")\n",
    "print(c, \"degrees Celsius is\", f, \"degrees Fahrenheit.\")"
   ]
  },
  {
   "cell_type": "markdown",
   "metadata": {},
   "source": [
    "#### Ex 8"
   ]
  },
  {
   "cell_type": "code",
   "execution_count": null,
   "metadata": {},
   "outputs": [],
   "source": [
    "r = float(input(\"Give me a radius to work with: \"))"
   ]
  },
  {
   "cell_type": "code",
   "execution_count": null,
   "metadata": {},
   "outputs": [],
   "source": [
    "h = float(input(\"Give me a height to work with: \"))"
   ]
  },
  {
   "cell_type": "code",
   "execution_count": null,
   "metadata": {},
   "outputs": [],
   "source": [
    "volume = pi*r**2*h\n",
    "print(volume)\n",
    "# derivative in r and h required\n",
    "surfarea = 2*pi*r*h + 2*pi*r**2\n",
    "print(surfarea)"
   ]
  },
  {
   "cell_type": "markdown",
   "metadata": {},
   "source": [
    "Now Ch. 3, 6, 7."
   ]
  },
  {
   "cell_type": "code",
   "execution_count": null,
   "metadata": {},
   "outputs": [],
   "source": [
    "a = input(\"Give me a phrase to work with: \")"
   ]
  },
  {
   "cell_type": "code",
   "execution_count": 15,
   "metadata": {},
   "outputs": [
    {
     "name": "stdout",
     "output_type": "stream",
     "text": [
      "Things we say and things we mean they might not always be the same.\n",
      "                Things we say and things we mean they might not always be the same.                 \n",
      "3\n",
      "False\n",
      "True\n",
      "16\n",
      "16\n",
      "False\n",
      "THINGS WE SAY AND THINGS WE MEAN THEY MIGHT NOT ALWAYS BE THE SAME.\n"
     ]
    }
   ],
   "source": [
    "print(a.capitalize())\n",
    "print(a.center(100))\n",
    "print(a.count(\"i\"))\n",
    "print(a.endswith(\"r\"))\n",
    "print(a.endswith(\".\"))\n",
    "print(a.find(\"d\"))\n",
    "print(a.index(\"d\"))\n",
    "print(a.isalnum())\n",
    "print(a.upper())"
   ]
  },
  {
   "cell_type": "markdown",
   "metadata": {},
   "source": [
    "### Exercise 1 (redo of Ch 3, p. 6)"
   ]
  },
  {
   "cell_type": "code",
   "execution_count": null,
   "metadata": {},
   "outputs": [],
   "source": []
  }
 ],
 "metadata": {
  "kernelspec": {
   "display_name": "Python 3",
   "language": "python",
   "name": "python3"
  },
  "language_info": {
   "codemirror_mode": {
    "name": "ipython",
    "version": 3
   },
   "file_extension": ".py",
   "mimetype": "text/x-python",
   "name": "python",
   "nbconvert_exporter": "python",
   "pygments_lexer": "ipython3",
   "version": "3.8.3"
  }
 },
 "nbformat": 4,
 "nbformat_minor": 4
}
