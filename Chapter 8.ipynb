{
 "cells": [
  {
   "cell_type": "markdown",
   "metadata": {},
   "source": [
    "# Chapter 8 Exercises"
   ]
  },
  {
   "cell_type": "markdown",
   "metadata": {},
   "source": [
    "### Ex. 1 - Magic Square"
   ]
  },
  {
   "cell_type": "markdown",
   "metadata": {},
   "source": [
    "To generate the magic square, use the following algorithm: Assign 1 to our initial current position: the bottom row, middle column. Place each successive value (up to size * size) in the first of the following positions that is unoccupied: (1) one space down and to the right, or (2) one space up. Positions wrap around the sides, top and bottom. (from Neller)"
   ]
  },
  {
   "cell_type": "code",
   "execution_count": 89,
   "metadata": {},
   "outputs": [
    {
     "ename": "SyntaxError",
     "evalue": "invalid syntax (<ipython-input-89-cc6bc44b1705>, line 5)",
     "output_type": "error",
     "traceback": [
      "\u001b[0;36m  File \u001b[0;32m\"<ipython-input-89-cc6bc44b1705>\"\u001b[0;36m, line \u001b[0;32m5\u001b[0m\n\u001b[0;31m    if\u001b[0m\n\u001b[0m      ^\u001b[0m\n\u001b[0;31mSyntaxError\u001b[0m\u001b[0;31m:\u001b[0m invalid syntax\n"
     ]
    }
   ],
   "source": [
    "n = int(input(\"Enter the size, n, of the board: \"))\n",
    "[[n for n in range(n)] for n in range(n)]\n",
    "\n",
    "for i in range(1, n+1):\n",
    "    if\n",
    "    \n",
    "            \n",
    "print(*c, sep = \"\\n\")    "
   ]
  },
  {
   "cell_type": "markdown",
   "metadata": {},
   "source": [
    "### Ex. 2 - Divisors"
   ]
  },
  {
   "cell_type": "code",
   "execution_count": 32,
   "metadata": {},
   "outputs": [
    {
     "name": "stdout",
     "output_type": "stream",
     "text": [
      "Give me a number!30\n",
      "Divisors of 30 include (1, 2, 3, 5, 6, 10, 15, 30)\n"
     ]
    }
   ],
   "source": [
    "n = int(input(\"Give me a number!\"))\n",
    "divisors = []\n",
    "for m in range(1, n+1):\n",
    "    if n%m == 0:\n",
    "        divisors.append(m)\n",
    "print(f\"Divisors of {n} include\", (*divisors,))\n",
    "    "
   ]
  },
  {
   "cell_type": "markdown",
   "metadata": {},
   "source": [
    "### Ex. 3 - Primes"
   ]
  },
  {
   "cell_type": "code",
   "execution_count": 50,
   "metadata": {},
   "outputs": [
    {
     "name": "stdout",
     "output_type": "stream",
     "text": [
      "Give me a number!29\n",
      "29 has 2 divisors, which means it is  prime.\n"
     ]
    }
   ],
   "source": [
    "n = int(input(\"Give me a number!\"))\n",
    "divisors = []\n",
    "for m in range(1, n+1):\n",
    "    if n%m == 0:\n",
    "        divisors.append(m)\n",
    "    if len(divisors) == 2:\n",
    "        prime = \" \"\n",
    "    else:\n",
    "        prime = \" not \"\n",
    "print(f\"{n} has {len(divisors)} divisors, which means it is {prime}prime.\")"
   ]
  },
  {
   "cell_type": "markdown",
   "metadata": {},
   "source": [
    "### Ex. 4 - Unique Elements"
   ]
  },
  {
   "cell_type": "code",
   "execution_count": 87,
   "metadata": {},
   "outputs": [
    {
     "name": "stdout",
     "output_type": "stream",
     "text": [
      "[1, 2, 3, 4, 5, 6, 12, 5193, 9]\n"
     ]
    }
   ],
   "source": [
    "a = [1,2,3,4,5,6,4,4,3,2,12,3,5,1,3,5193,9]\n",
    "aprime = []\n",
    "for i in a:\n",
    "    if aprime.count(i) < 1:\n",
    "        aprime.append(i)\n",
    "    else:\n",
    "        continue\n",
    "print(aprime)"
   ]
  },
  {
   "cell_type": "markdown",
   "metadata": {},
   "source": [
    "### Ex. 5 - `\"min`\", \"`max`,\" \"`sum`,\" and \"`product`\""
   ]
  },
  {
   "cell_type": "code",
   "execution_count": 92,
   "metadata": {},
   "outputs": [
    {
     "name": "stdout",
     "output_type": "stream",
     "text": [
      "The sum of numbers in this list is 1600564\n",
      "The product of numbers in this list is 3873194841600000\n",
      "The minimum of the numbers in this list is -300\n",
      "The maximum of the numbers in this list is 1601023\n"
     ]
    }
   ],
   "source": [
    "a = [1,2,-200,4,1601023,-300,7,8,9,10]\n",
    "s = 0\n",
    "p = 1\n",
    "small = a[0]\n",
    "big = a[0]\n",
    "for i in a:\n",
    "    if i < small:\n",
    "        small = i\n",
    "    if i > big:\n",
    "        big = i\n",
    "    s += i\n",
    "    p *= i\n",
    "print(f\"The sum of numbers in this list is {s}\")\n",
    "print(f\"The product of numbers in this list is {p}\")\n",
    "print(f\"The minimum of the numbers in this list is {currentmin}\")\n",
    "print(f\"The maximum of the numbers in this list is {big}\")"
   ]
  },
  {
   "cell_type": "markdown",
   "metadata": {},
   "source": [
    "### Exercise 6 - Palindromes"
   ]
  },
  {
   "cell_type": "code",
   "execution_count": 86,
   "metadata": {},
   "outputs": [
    {
     "name": "stdout",
     "output_type": "stream",
     "text": [
      "This is not a palindrome. pineappleelppaenip is a palindrome\n"
     ]
    }
   ],
   "source": [
    "string = \"pineapple\"\n",
    "newstring = \"\"\n",
    "for i in range(len(string)):\n",
    "    if string[i] == string[::-1][i]:\n",
    "        value = \"\"\n",
    "        continue\n",
    "    elif string[i] != string[::-1][i]:\n",
    "        value = \"not \"\n",
    "        break\n",
    "newstring = string + string[::-1]\n",
    "print(f\"This is {value}a palindrome. {newstring} is a palindrome\")"
   ]
  },
  {
   "cell_type": "code",
   "execution_count": null,
   "metadata": {},
   "outputs": [],
   "source": []
  }
 ],
 "metadata": {
  "kernelspec": {
   "display_name": "Python 3",
   "language": "python",
   "name": "python3"
  },
  "language_info": {
   "codemirror_mode": {
    "name": "ipython",
    "version": 3
   },
   "file_extension": ".py",
   "mimetype": "text/x-python",
   "name": "python",
   "nbconvert_exporter": "python",
   "pygments_lexer": "ipython3",
   "version": "3.8.2"
  }
 },
 "nbformat": 4,
 "nbformat_minor": 4
}
