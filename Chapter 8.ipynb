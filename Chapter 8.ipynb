{
 "cells": [
  {
   "cell_type": "markdown",
   "metadata": {},
   "source": [
    "# Chapter 8 Exercises"
   ]
  },
  {
   "cell_type": "markdown",
   "metadata": {},
   "source": [
    "### Ex. 1 - Magic Square"
   ]
  },
  {
   "cell_type": "code",
   "execution_count": null,
   "metadata": {},
   "outputs": [],
   "source": []
  },
  {
   "cell_type": "markdown",
   "metadata": {},
   "source": [
    "### Ex. 2 - Divisors"
   ]
  },
  {
   "cell_type": "code",
   "execution_count": 32,
   "metadata": {},
   "outputs": [
    {
     "name": "stdout",
     "output_type": "stream",
     "text": [
      "Give me a number!30\n",
      "Divisors of 30 include (1, 2, 3, 5, 6, 10, 15, 30)\n"
     ]
    }
   ],
   "source": [
    "n = int(input(\"Give me a number!\"))\n",
    "divisors = []\n",
    "for m in range(1, n+1):\n",
    "    if n%m == 0:\n",
    "        divisors.append(m)\n",
    "print(f\"Divisors of {n} include\", (*divisors,))\n",
    "    "
   ]
  },
  {
   "cell_type": "markdown",
   "metadata": {},
   "source": [
    "### Ex. 3 - Primes"
   ]
  },
  {
   "cell_type": "code",
   "execution_count": 42,
   "metadata": {},
   "outputs": [
    {
     "name": "stdout",
     "output_type": "stream",
     "text": [
      "Give me a number!30\n",
      "30 has 8 divisors, which means it is  not prime.\n"
     ]
    }
   ],
   "source": [
    "n = int(input(\"Give me a number!\"))\n",
    "divisors = []\n",
    "for m in range(1, n+1):\n",
    "    if n%m == 0:\n",
    "        divisors.append(m)\n",
    "    if len(divisors) == 1:\n",
    "        prime = \" \"\n",
    "    else:\n",
    "        prime = \" not \"\n",
    "print(f\"{n} has {len(divisors)} divisors, which means it is {prime}prime.\")"
   ]
  },
  {
   "cell_type": "markdown",
   "metadata": {},
   "source": [
    "### Ex. 4 - `\"min`\", \"`max`,\" \"`sum`,\" and \"`product`\""
   ]
  },
  {
   "cell_type": "code",
   "execution_count": null,
   "metadata": {},
   "outputs": [],
   "source": []
  }
 ],
 "metadata": {
  "kernelspec": {
   "display_name": "Python 3",
   "language": "python",
   "name": "python3"
  },
  "language_info": {
   "codemirror_mode": {
    "name": "ipython",
    "version": 3
   },
   "file_extension": ".py",
   "mimetype": "text/x-python",
   "name": "python",
   "nbconvert_exporter": "python",
   "pygments_lexer": "ipython3",
   "version": "3.8.2"
  }
 },
 "nbformat": 4,
 "nbformat_minor": 4
}
