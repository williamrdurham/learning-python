{
 "cells": [
  {
   "cell_type": "markdown",
   "metadata": {},
   "source": [
    "# Lists Part II"
   ]
  },
  {
   "cell_type": "markdown",
   "metadata": {},
   "source": [
    "### Practice with two dimensional arrays"
   ]
  },
  {
   "cell_type": "markdown",
   "metadata": {},
   "source": [
    "#### Matrix Multiplication"
   ]
  },
  {
   "cell_type": "code",
   "execution_count": 7,
   "metadata": {},
   "outputs": [],
   "source": [
    "a = [[1,2,3,4], \n",
    "     [2,3,4,5], \n",
    "     [3,4,5,6], \n",
    "     [4,5,6,7]]\n",
    "b = [[1,2,3,4], \n",
    "     [2,3,4,5], \n",
    "     [3,4,5,6], \n",
    "     [4,5,6,7]]"
   ]
  },
  {
   "cell_type": "code",
   "execution_count": 8,
   "metadata": {},
   "outputs": [
    {
     "name": "stdout",
     "output_type": "stream",
     "text": [
      "[2, 4, 6, 8]\n",
      "[4, 6, 8, 10]\n",
      "[6, 8, 10, 12]\n",
      "[8, 10, 12, 14]\n"
     ]
    }
   ],
   "source": [
    "c = []\n",
    "row = 0\n",
    "while row < len(a):\n",
    "    new_row = []\n",
    "    col = 0\n",
    "    while col < len(a[row]):\n",
    "        new_row.append(a[row][col] + b[row][col])\n",
    "        col += 1\n",
    "    c.append(new_row)\n",
    "    row += 1\n",
    "print(*c, sep = \"\\n\")"
   ]
  },
  {
   "cell_type": "code",
   "execution_count": 9,
   "metadata": {},
   "outputs": [
    {
     "name": "stdout",
     "output_type": "stream",
     "text": [
      "[2, 4, 6, 8]\n",
      "[4, 6, 8, 10]\n",
      "[6, 8, 10, 12]\n",
      "[8, 10, 12, 14]\n"
     ]
    }
   ],
   "source": [
    "c = a.copy()\n",
    "row = 0\n",
    "while row < len(a):\n",
    "    new_row = []\n",
    "    col = 0\n",
    "    while col < len(a[row]):\n",
    "        c[row][col]+= b[row][col]\n",
    "        col += 1\n",
    "    row += 1\n",
    "print(*c, sep = \"\\n\")"
   ]
  },
  {
   "cell_type": "markdown",
   "metadata": {},
   "source": [
    "#### Matrix Multiplication"
   ]
  },
  {
   "cell_type": "code",
   "execution_count": 11,
   "metadata": {},
   "outputs": [],
   "source": [
    "a = [[1,2,3], \n",
    "     [2,3,4], \n",
    "     [3,4,5], \n",
    "     [4,5,6],\n",
    "     [2,3,4], \n",
    "     [3,4,5], \n",
    "     [4,5,6]]\n",
    "b = [[1,2,3,4, 5], \n",
    "     [2,3,4,5, 6], \n",
    "     [3,4,5,6, 7]]"
   ]
  },
  {
   "cell_type": "code",
   "execution_count": 14,
   "metadata": {},
   "outputs": [
    {
     "name": "stdout",
     "output_type": "stream",
     "text": [
      "[14, 20, 26, 32, 38]\n",
      "[20, 29, 38, 47, 56]\n",
      "[26, 38, 50, 62, 74]\n",
      "[32, 47, 62, 77, 92]\n",
      "[20, 29, 38, 47, 56]\n",
      "[26, 38, 50, 62, 74]\n",
      "[32, 47, 62, 77, 92]\n"
     ]
    }
   ],
   "source": [
    "c = []\n",
    "i = 0\n",
    "while i < len(a):\n",
    "    c.append([0]*len(b[0]))\n",
    "    i += 1\n",
    "\n",
    "i = 0\n",
    "while i < len(a):\n",
    "    j = 0\n",
    "    while j < len(b[0]):\n",
    "        # take the dot product of the ith row of a and the jth column of b\n",
    "        dot_product = 0\n",
    "        k = 0\n",
    "        while k < len(a[i]):\n",
    "            dot_product += a[i][k] * b[k][j]\n",
    "            k+=1\n",
    "        c[i][j] = dot_product\n",
    "        j+=1\n",
    "    i+=1\n",
    "    \n",
    "print(*c, sep = \"\\n\")\n",
    "            \n"
   ]
  },
  {
   "cell_type": "code",
   "execution_count": null,
   "metadata": {},
   "outputs": [],
   "source": []
  }
 ],
 "metadata": {
  "kernelspec": {
   "display_name": "Python 3",
   "language": "python",
   "name": "python3"
  },
  "language_info": {
   "codemirror_mode": {
    "name": "ipython",
    "version": 3
   },
   "file_extension": ".py",
   "mimetype": "text/x-python",
   "name": "python",
   "nbconvert_exporter": "python",
   "pygments_lexer": "ipython3",
   "version": "3.8.2"
  }
 },
 "nbformat": 4,
 "nbformat_minor": 4
}
