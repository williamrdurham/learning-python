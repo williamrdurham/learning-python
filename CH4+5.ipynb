{
 "cells": [
  {
   "cell_type": "markdown",
   "metadata": {},
   "source": [
    "# Chapters 4 and 5"
   ]
  },
  {
   "cell_type": "markdown",
   "metadata": {},
   "source": [
    "### Exercise 1 (redo of Ch. 2: 7-10, 12 and Ch. 3: 6, 7)."
   ]
  },
  {
   "cell_type": "markdown",
   "metadata": {},
   "source": [
    "Let's start with Ch. 2, 7-10"
   ]
  },
  {
   "cell_type": "markdown",
   "metadata": {},
   "source": [
    "#### Ex 7"
   ]
  },
  {
   "cell_type": "code",
   "execution_count": 12,
   "metadata": {},
   "outputs": [
    {
     "name": "stdout",
     "output_type": "stream",
     "text": [
      "Give me temperature in Fahrenheit: 34\n",
      "34.0 degrees Fahrenheit is the input.\n",
      "34.0 degrees Fahrenheit is 1.1111111111111112 degrees Celsius.\n"
     ]
    }
   ],
   "source": [
    "f = float(input(\"Give me temperature in Fahrenheit: \"))\n",
    "c = (5/9)*(f-32)\n",
    "print(f, \"degrees Fahrenheit is the input.\")\n",
    "print(f, \"degrees Fahrenheit is\", c, \"degrees Celsius.\")"
   ]
  },
  {
   "cell_type": "code",
   "execution_count": 13,
   "metadata": {},
   "outputs": [
    {
     "name": "stdout",
     "output_type": "stream",
     "text": [
      "Give me temperature in Celsius: 34\n",
      "34.0 degrees Celsius is the input.\n",
      "34.0 degrees Celsius is 93.2 degrees Fahrenheit.\n"
     ]
    }
   ],
   "source": [
    "c = float(input(\"Give me temperature in Celsius: \"))\n",
    "f = (9/5)*c + 32\n",
    "print(c, \"degrees Celsius is the input.\")\n",
    "print(c, \"degrees Celsius is\", f, \"degrees Fahrenheit.\")"
   ]
  },
  {
   "cell_type": "markdown",
   "metadata": {},
   "source": [
    "#### Ex 8"
   ]
  },
  {
   "cell_type": "code",
   "execution_count": 18,
   "metadata": {},
   "outputs": [],
   "source": [
    "from math import *"
   ]
  },
  {
   "cell_type": "code",
   "execution_count": 19,
   "metadata": {},
   "outputs": [
    {
     "name": "stdout",
     "output_type": "stream",
     "text": [
      "Give me a radius to work with: 33\n"
     ]
    }
   ],
   "source": [
    "r = float(input(\"Give me a radius to work with: \"))"
   ]
  },
  {
   "cell_type": "code",
   "execution_count": 20,
   "metadata": {},
   "outputs": [
    {
     "name": "stdout",
     "output_type": "stream",
     "text": [
      "Give me a height to work with: 33\n"
     ]
    }
   ],
   "source": [
    "h = float(input(\"Give me a height to work with: \"))"
   ]
  },
  {
   "cell_type": "code",
   "execution_count": 23,
   "metadata": {},
   "outputs": [
    {
     "name": "stdout",
     "output_type": "stream",
     "text": [
      "The volume is 112899.4151920564 .\n",
      "The surface area is 13684.77759903714 .\n"
     ]
    }
   ],
   "source": [
    "volume = pi*r**2*h\n",
    "print(\"The volume is\", volume, \".\")\n",
    "# derivative in r and h required\n",
    "surfarea = 2*pi*r*h + 2*pi*r**2\n",
    "print(\"The surface area is\", surfarea, \".\")"
   ]
  },
  {
   "cell_type": "markdown",
   "metadata": {},
   "source": [
    "#### Exercise 9"
   ]
  },
  {
   "cell_type": "code",
   "execution_count": 24,
   "metadata": {},
   "outputs": [
    {
     "name": "stdout",
     "output_type": "stream",
     "text": [
      "Your meal will set you back: 256.00\n"
     ]
    }
   ],
   "source": [
    "subtotal = float(input(\"Your meal will set you back: \"))"
   ]
  },
  {
   "cell_type": "code",
   "execution_count": 25,
   "metadata": {},
   "outputs": [
    {
     "name": "stdout",
     "output_type": "stream",
     "text": [
      "The gratuity rate for your party is: 0.33\n"
     ]
    }
   ],
   "source": [
    "gratrate = float(input(\"The gratuity rate for your party is: \"))"
   ]
  },
  {
   "cell_type": "code",
   "execution_count": 27,
   "metadata": {},
   "outputs": [
    {
     "name": "stdout",
     "output_type": "stream",
     "text": [
      "84.48\n"
     ]
    }
   ],
   "source": [
    "tip = round(subtotal* gratrate, 2)\n",
    "print(tip)"
   ]
  },
  {
   "cell_type": "markdown",
   "metadata": {},
   "source": [
    "#### Exercise 10"
   ]
  },
  {
   "cell_type": "code",
   "execution_count": 28,
   "metadata": {},
   "outputs": [
    {
     "name": "stdout",
     "output_type": "stream",
     "text": [
      "The annual interest rate is: 0.10\n"
     ]
    }
   ],
   "source": [
    "r = float(input(\"The annual interest rate is: \"))"
   ]
  },
  {
   "cell_type": "code",
   "execution_count": 29,
   "metadata": {},
   "outputs": [
    {
     "name": "stdout",
     "output_type": "stream",
     "text": [
      "The compounding frequency is: 12\n"
     ]
    }
   ],
   "source": [
    "cf = float(input(\"The compounding frequency is: \"))"
   ]
  },
  {
   "cell_type": "code",
   "execution_count": 30,
   "metadata": {},
   "outputs": [
    {
     "name": "stdout",
     "output_type": "stream",
     "text": [
      "The recurring deposit amount is: 5000\n"
     ]
    }
   ],
   "source": [
    "md = float(input(\"The recurring deposit amount is: \"))"
   ]
  },
  {
   "cell_type": "code",
   "execution_count": 31,
   "metadata": {},
   "outputs": [
    {
     "data": {
      "text/plain": [
       "37885.59017901921"
      ]
     },
     "execution_count": 31,
     "metadata": {},
     "output_type": "execute_result"
    }
   ],
   "source": [
    "(md + (md + (md +(md + (md + (md + md*(1+r/cf))*(1+ r/cf)**2)*(1+r/cf)**3)*(1+r/cf)**4)*(1+r/cf**5))*(1+r/cf)**6)"
   ]
  },
  {
   "cell_type": "markdown",
   "metadata": {},
   "source": [
    "Now Ch. 3, 6, 7."
   ]
  },
  {
   "cell_type": "code",
   "execution_count": 35,
   "metadata": {},
   "outputs": [
    {
     "name": "stdout",
     "output_type": "stream",
     "text": [
      "Give me a phrase to work with: Burn the witch!  She is peddling algebra, and algebra is witchcraft.\n"
     ]
    }
   ],
   "source": [
    "a = input(\"Give me a phrase to work with: \")"
   ]
  },
  {
   "cell_type": "code",
   "execution_count": 36,
   "metadata": {},
   "outputs": [
    {
     "name": "stdout",
     "output_type": "stream",
     "text": [
      "Burn the witch!  she is peddling algebra, and algebra is witchcraft.\n",
      "                Burn the witch!  She is peddling algebra, and algebra is witchcraft.                \n",
      "5\n",
      "False\n",
      "True\n",
      "26\n",
      "26\n",
      "False\n",
      "BURN THE WITCH!  SHE IS PEDDLING ALGEBRA, AND ALGEBRA IS WITCHCRAFT.\n"
     ]
    }
   ],
   "source": [
    "print(a.capitalize())\n",
    "print(a.center(100))\n",
    "print(a.count(\"i\"))\n",
    "print(a.endswith(\"r\"))\n",
    "print(a.endswith(\".\"))\n",
    "print(a.find(\"d\"))\n",
    "print(a.index(\"d\"))\n",
    "print(a.isalnum())\n",
    "print(a.upper())"
   ]
  },
  {
   "cell_type": "markdown",
   "metadata": {},
   "source": [
    "### Exercise 2"
   ]
  },
  {
   "cell_type": "code",
   "execution_count": 42,
   "metadata": {},
   "outputs": [
    {
     "ename": "FileNotFoundError",
     "evalue": "[Errno 2] No such file or directory: 'Users\\\\wrdii\\\\PycharmProjects\\\\learning-python\\\\OTPYG.txt'",
     "output_type": "error",
     "traceback": [
      "\u001b[1;31m---------------------------------------------------------------------------\u001b[0m",
      "\u001b[1;31mFileNotFoundError\u001b[0m                         Traceback (most recent call last)",
      "\u001b[1;32m<ipython-input-42-214f31b633a6>\u001b[0m in \u001b[0;36m<module>\u001b[1;34m\u001b[0m\n\u001b[1;32m----> 1\u001b[1;33m \u001b[0mf\u001b[0m \u001b[1;33m=\u001b[0m \u001b[0mopen\u001b[0m\u001b[1;33m(\u001b[0m\u001b[1;34m\"Users\\wrdii\\PycharmProjects\\learning-python\\OTPYG.txt\"\u001b[0m\u001b[1;33m)\u001b[0m\u001b[1;33m\u001b[0m\u001b[1;33m\u001b[0m\u001b[0m\n\u001b[0m",
      "\u001b[1;31mFileNotFoundError\u001b[0m: [Errno 2] No such file or directory: 'Users\\\\wrdii\\\\PycharmProjects\\\\learning-python\\\\OTPYG.txt'"
     ]
    }
   ],
   "source": []
  },
  {
   "cell_type": "code",
   "execution_count": 39,
   "metadata": {},
   "outputs": [
    {
     "name": "stdout",
     "output_type": "stream",
     "text": [
      "\n"
     ]
    }
   ],
   "source": [
    "with open(\"OTPYG.txt\", \"a+\") as f:\n",
    "       print(f.read())"
   ]
  },
  {
   "cell_type": "code",
   "execution_count": null,
   "metadata": {},
   "outputs": [],
   "source": []
  }
 ],
 "metadata": {
  "kernelspec": {
   "display_name": "Python 3",
   "language": "python",
   "name": "python3"
  },
  "language_info": {
   "codemirror_mode": {
    "name": "ipython",
    "version": 3
   },
   "file_extension": ".py",
   "mimetype": "text/x-python",
   "name": "python",
   "nbconvert_exporter": "python",
   "pygments_lexer": "ipython3",
   "version": "3.8.3"
  }
 },
 "nbformat": 4,
 "nbformat_minor": 4
}
