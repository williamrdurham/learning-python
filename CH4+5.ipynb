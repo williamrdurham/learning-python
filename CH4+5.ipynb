{
 "cells": [
  {
   "cell_type": "markdown",
   "metadata": {
    "collapsed": false
   },
   "source": [
    "# Chapters 4 and 5"
   ]
  },
  {
   "cell_type": "markdown",
   "metadata": {
    "collapsed": false
   },
   "source": [
    "### Exercise 1 (redo of Ch. 2: 7-10, 12 and Ch. 3: 6, 7)."
   ]
  },
  {
   "cell_type": "markdown",
   "metadata": {
    "collapsed": false
   },
   "source": [
    "Let's start with Ch. 2, 7-10"
   ]
  },
  {
   "cell_type": "markdown",
   "metadata": {
    "collapsed": false
   },
   "source": [
    "#### Ex 7"
   ]
  },
  {
   "cell_type": "code",
   "execution_count": 1,
   "metadata": {
    "cocalc": {
     "outputs": {
      "0": {
       "name": "input",
       "opts": {
        "password": false,
        "prompt": "Give me temperature in Fahrenheit: "
       },
       "output_type": "stream",
       "value": "33"
      }
     }
    },
    "collapsed": false
   },
   "outputs": [
    {
     "name": "stdout",
     "output_type": "stream",
     "text": "Give me temperature in Fahrenheit:  33"
    },
    {
     "name": "stdout",
     "output_type": "stream",
     "text": [
      "33.0 degrees Fahrenheit is the input.\n",
      "33.0 degrees Fahrenheit is 0.5555555555555556 degrees Celsius.\n"
     ]
    }
   ],
   "source": [
    "f = float(input(\"Give me temperature in Fahrenheit: \"))\n",
    "c = (5/9)*(f-32)\n",
    "print(f, \"degrees Fahrenheit is the input.\")\n",
    "print(f, \"degrees Fahrenheit is\", c, \"degrees Celsius.\")"
   ]
  },
  {
   "cell_type": "code",
   "execution_count": 2,
   "metadata": {
    "cocalc": {
     "outputs": {
      "0": {
       "name": "input",
       "opts": {
        "password": false,
        "prompt": "Give me temperature in Celsius: "
       },
       "output_type": "stream",
       "value": "33"
      }
     }
    },
    "collapsed": false
   },
   "outputs": [
    {
     "name": "stdout",
     "output_type": "stream",
     "text": "Give me temperature in Celsius:  33"
    },
    {
     "name": "stdout",
     "output_type": "stream",
     "text": [
      "33.0 degrees Celsius is the input.\n",
      "33.0 degrees Celsius is 91.4 degrees Fahrenheit.\n"
     ]
    }
   ],
   "source": [
    "c = float(input(\"Give me temperature in Celsius: \"))\n",
    "f = (9/5)*c + 32\n",
    "print(c, \"degrees Celsius is the input.\")\n",
    "print(c, \"degrees Celsius is\", f, \"degrees Fahrenheit.\")"
   ]
  },
  {
   "cell_type": "markdown",
   "metadata": {
    "collapsed": false
   },
   "source": [
    "#### Ex 8"
   ]
  },
  {
   "cell_type": "code",
   "execution_count": 3,
   "metadata": {
    "collapsed": false
   },
   "outputs": [
   ],
   "source": [
    "from math import *"
   ]
  },
  {
   "cell_type": "code",
   "execution_count": 4,
   "metadata": {
    "cocalc": {
     "outputs": {
      "0": {
       "name": "input",
       "opts": {
        "password": false,
        "prompt": "Give me a radius to work with: "
       },
       "output_type": "stream",
       "value": "300"
      }
     }
    },
    "collapsed": false
   },
   "outputs": [
    {
     "name": "stdout",
     "output_type": "stream",
     "text": "Give me a radius to work with:  300"
    }
   ],
   "source": [
    "r = float(input(\"Give me a radius to work with: \"))"
   ]
  },
  {
   "cell_type": "code",
   "execution_count": 5,
   "metadata": {
    "cocalc": {
     "outputs": {
      "0": {
       "name": "input",
       "opts": {
        "password": false,
        "prompt": "Give me a height to work with: "
       },
       "output_type": "stream",
       "value": "34034803214"
      }
     }
    },
    "collapsed": false
   },
   "outputs": [
    {
     "name": "stdout",
     "output_type": "stream",
     "text": "Give me a height to work with:  34034803214"
    }
   ],
   "source": [
    "h = float(input(\"Give me a height to work with: \"))"
   ]
  },
  {
   "cell_type": "code",
   "execution_count": 6,
   "metadata": {
    "collapsed": false
   },
   "outputs": [
    {
     "name": "stdout",
     "output_type": "stream",
     "text": [
      "The volume is 9623113896912902.0 .\n",
      "The surface area is 64154093211572.69 .\n"
     ]
    }
   ],
   "source": [
    "volume = pi*r**2*h\n",
    "print(\"The volume is\", volume, \".\")\n",
    "# derivative in r and h required\n",
    "surfarea = 2*pi*r*h + 2*pi*r**2\n",
    "print(\"The surface area is\", surfarea, \".\")"
   ]
  },
  {
   "cell_type": "markdown",
   "metadata": {
    "collapsed": false
   },
   "source": [
    "#### Exercise 9"
   ]
  },
  {
   "cell_type": "code",
   "execution_count": 24,
   "metadata": {
    "collapsed": false
   },
   "outputs": [
    {
     "name": "stdout",
     "output_type": "stream",
     "text": [
      "Your meal will set you back: 256.00\n"
     ]
    }
   ],
   "source": [
    "subtotal = float(input(\"Your meal will set you back: \"))"
   ]
  },
  {
   "cell_type": "code",
   "execution_count": 25,
   "metadata": {
    "collapsed": false
   },
   "outputs": [
    {
     "name": "stdout",
     "output_type": "stream",
     "text": [
      "The gratuity rate for your party is: 0.33\n"
     ]
    }
   ],
   "source": [
    "gratrate = float(input(\"The gratuity rate for your party is: \"))"
   ]
  },
  {
   "cell_type": "code",
   "execution_count": 27,
   "metadata": {
    "collapsed": false
   },
   "outputs": [
    {
     "name": "stdout",
     "output_type": "stream",
     "text": [
      "84.48\n"
     ]
    }
   ],
   "source": [
    "tip = round(subtotal* gratrate, 2)\n",
    "print(tip)"
   ]
  },
  {
   "cell_type": "markdown",
   "metadata": {
    "collapsed": false
   },
   "source": [
    "#### Exercise 10"
   ]
  },
  {
   "cell_type": "code",
   "execution_count": 28,
   "metadata": {
    "collapsed": false
   },
   "outputs": [
    {
     "name": "stdout",
     "output_type": "stream",
     "text": [
      "The annual interest rate is: 0.10\n"
     ]
    }
   ],
   "source": [
    "r = float(input(\"The annual interest rate is: \"))"
   ]
  },
  {
   "cell_type": "code",
   "execution_count": 29,
   "metadata": {
    "collapsed": false
   },
   "outputs": [
    {
     "name": "stdout",
     "output_type": "stream",
     "text": [
      "The compounding frequency is: 12\n"
     ]
    }
   ],
   "source": [
    "cf = float(input(\"The compounding frequency is: \"))"
   ]
  },
  {
   "cell_type": "code",
   "execution_count": 30,
   "metadata": {
    "collapsed": false
   },
   "outputs": [
    {
     "name": "stdout",
     "output_type": "stream",
     "text": [
      "The recurring deposit amount is: 5000\n"
     ]
    }
   ],
   "source": [
    "md = float(input(\"The recurring deposit amount is: \"))"
   ]
  },
  {
   "cell_type": "code",
   "execution_count": 31,
   "metadata": {
    "collapsed": false
   },
   "outputs": [
    {
     "data": {
      "text/plain": [
       "37885.59017901921"
      ]
     },
     "execution_count": 31,
     "metadata": {
     },
     "output_type": "execute_result"
    }
   ],
   "source": [
    "(md + (md + (md +(md + (md + (md + md*(1+r/cf))*(1+ r/cf)**2)*(1+r/cf)**3)*(1+r/cf)**4)*(1+r/cf**5))*(1+r/cf)**6)"
   ]
  },
  {
   "cell_type": "markdown",
   "metadata": {
    "collapsed": false
   },
   "source": [
    "Now Ch. 3, 6, 7."
   ]
  },
  {
   "cell_type": "code",
   "execution_count": 35,
   "metadata": {
    "collapsed": false
   },
   "outputs": [
    {
     "name": "stdout",
     "output_type": "stream",
     "text": [
      "Give me a phrase to work with: Burn the witch!  She is peddling algebra, and algebra is witchcraft.\n"
     ]
    }
   ],
   "source": [
    "a = input(\"Give me a phrase to work with: \")"
   ]
  },
  {
   "cell_type": "code",
   "execution_count": 36,
   "metadata": {
    "collapsed": false
   },
   "outputs": [
    {
     "name": "stdout",
     "output_type": "stream",
     "text": [
      "Burn the witch!  she is peddling algebra, and algebra is witchcraft.\n",
      "                Burn the witch!  She is peddling algebra, and algebra is witchcraft.                \n",
      "5\n",
      "False\n",
      "True\n",
      "26\n",
      "26\n",
      "False\n",
      "BURN THE WITCH!  SHE IS PEDDLING ALGEBRA, AND ALGEBRA IS WITCHCRAFT.\n"
     ]
    }
   ],
   "source": [
    "print(a.capitalize())\n",
    "print(a.center(100))\n",
    "print(a.count(\"i\"))\n",
    "print(a.endswith(\"r\"))\n",
    "print(a.endswith(\".\"))\n",
    "print(a.find(\"d\"))\n",
    "print(a.index(\"d\"))\n",
    "print(a.isalnum())\n",
    "print(a.upper())"
   ]
  },
  {
   "cell_type": "markdown",
   "metadata": {
    "collapsed": false
   },
   "source": [
    "### Exercise 2"
   ]
  },
  {
   "cell_type": "code",
   "execution_count": 88,
   "metadata": {
    "collapsed": false
   },
   "outputs": [
    {
     "name": "stdout",
     "output_type": "stream",
     "text": [
      "\n"
     ]
    }
   ],
   "source": [
    "with open(\"OTPYG.txt\", \"r\") as f:\n",
    "    txt = f.read()\n",
    "    print(f.read())"
   ]
  },
  {
   "cell_type": "code",
   "execution_count": 89,
   "metadata": {
    "collapsed": false
   },
   "outputs": [
    {
     "name": "stdout",
     "output_type": "stream",
     "text": [
      "Oh appears 2 times.\n",
      "The appears 54 times.\n",
      "You'll appears 28 times.\n",
      "Go appears 23 times\n"
     ]
    }
   ],
   "source": [
    "print(\"Oh appears\", txt.count(\"Oh\") + txt.count(\"oh\"), \"times.\")\n",
    "print(\"The appears\", txt.count(\"The\")+txt.count(\"the\"), \"times.\")\n",
    "print(\"You'll appears\", txt.count(\"you'll\")+txt.count(\"You'll\"), \"times.\")\n",
    "print(\"Go appears\", txt.count(\"go\") + txt.count(\"Go\"), \"times\")"
   ]
  },
  {
   "cell_type": "code",
   "execution_count": 90,
   "metadata": {
    "collapsed": false
   },
   "outputs": [
   ],
   "source": [
    "with open(\"OTPYG.txt\", \"a\") as f:\n",
    "    f.write(\"I think perhaps we shouldn't be going anywhere\\nafter all, there is a global pandemic at the moment.\")"
   ]
  },
  {
   "cell_type": "code",
   "execution_count": 91,
   "metadata": {
    "collapsed": false
   },
   "outputs": [
    {
     "name": "stdout",
     "output_type": "stream",
     "text": [
      "Oh, the Places You'll Go!\n",
      "by Dr. Seuss\n",
      "\n",
      "Congratulations!\n",
      "Today is your day.\n",
      "You're off to Great Places!\n",
      "You're off and away!\n",
      "\n",
      "You have brains in your head.\n",
      "You have feet in your shoes.\n",
      "You can steer yourself\n",
      "any direction you choose.\n",
      "You're on your own. And you know what you know.\n",
      "And YOU are the guy who'll decide where to go.\n",
      "\n",
      "You'll look up and down streets. Look 'em over with care.\n",
      "About some you will say, \"I don't choose to go there.\"\n",
      "With your head full of brains and your shoes full of feet,\n",
      "you're too smart to go down any not-so-good street.\n",
      "\n",
      "And you may not find any\n",
      "you'll want to go down.\n",
      "In that case, of course,\n",
      "you'll head straight out of town.\n",
      "\n",
      "It's opener there\n",
      "in the wide open air.\n",
      "\n",
      "Out there things can happen\n",
      "and frequently do\n",
      "to people as brainy\n",
      "and footsy as you.\n",
      "\n",
      "And then things start to happen,\n",
      "don't worry. Don't stew.\n",
      "Just go right along.\n",
      "You'll start happening too.\n",
      "\n",
      "OH!\n",
      "THE PLACES YOU'LL GO!\n",
      "\n",
      "You'll be on y our way up!\n",
      "You'll be seeing great sights!\n",
      "You'll join the high fliers\n",
      "who soar to high heights.\n",
      "\n",
      "You won't lag behind, because you'll have the speed.\n",
      "You'll pass the whole gang and you'll soon take the lead.\n",
      "Wherever you fly, you'll be best of the best.\n",
      "Wherever you go, you will top all the rest.\n",
      "\n",
      "Except when you don't.\n",
      "Because, sometimes, you won't.\n",
      "\n",
      "I'm sorry to say so\n",
      "but, sadly, it's true\n",
      "that Bang-ups\n",
      "and Hang-ups\n",
      "can happen to you.\n",
      "\n",
      "You can get all hung up\n",
      "in a prickle-ly perch.\n",
      "And your gang will fly on.\n",
      "You'll be left in a Lurch.\n",
      "\n",
      "You'll come down from the Lurch\n",
      "with an unpleasant bump.\n",
      "And the chances are, then,\n",
      "that you'll be in a Slump.\n",
      "\n",
      "And when you're in a Slump,\n",
      "you're not in for much fun.\n",
      "Un-slumping yourself\n",
      "is not easily done.\n",
      "\n",
      "You will come to a place where the streets are not marked.\n",
      "Some windows are lighted. But mostly they're darked.\n",
      "A place you could sprain both your elbow and chin!\n",
      "Do you dare to stay out? Do you dare to go in?\n",
      "How much can you lose? How much can you win?\n",
      "\n",
      "And IF you go in, should you turn left or right...\n",
      "or right-and-three-quarters? Or, maybe, not quite?\n",
      "Or go around back and sneak in from behind?\n",
      "Simple it's not, I'm afraid you will find,\n",
      "for a mind-maker-upper to make up his mind.\n",
      "\n",
      "You can get so confused\n",
      "that you'll start in to race\n",
      "down long wiggled roads at a break-necking pace\n",
      "and grind on for miles cross weirdish wild space,\n",
      "headed, I fear, toward a most useless place.\n",
      "The Waiting Place...\n",
      "\n",
      "...for people just waiting.\n",
      "Waiting for a train to go\n",
      "or a bus to come, or a plane to go\n",
      "or the mail to come, or the rain to go\n",
      "or the phone to ring, or the snow to snow\n",
      "or the waiting around for a Yes or No\n",
      "or waiting for their hair to grow.\n",
      "Everyone is just waiting.\n",
      "\n",
      "Waiting for the fish to bite\n",
      "or waiting for the wind to fly a kite\n",
      "or waiting around for Friday night\n",
      "or waiting, perhaps, for their Uncle Jake\n",
      "or a pot to boil, or a Better Break\n",
      "or a string of pearls, or a pair of pants\n",
      "or a wig with curls, or Another Chance.\n",
      "Everyone is just waiting.\n",
      "\n",
      "NO!\n",
      "That's not for you!\n",
      "\n",
      "Somehow you'll escape\n",
      "all that waiting and staying\n",
      "You'll find the bright places\n",
      "where Boom Bands are playing.\n",
      "\n",
      "With banner flip-flapping,\n",
      "once more you'll ride high!\n",
      "Ready for anything under the sky.\n",
      "Ready because you're that kind of a guy!\n",
      "\n",
      "Oh, the places you'll go! There is fun to be done!\n",
      "There are points to be scored. There are games to be won.\n",
      "And the magical things you can do with that ball\n",
      "will make you the winning-est winner of all.\n",
      "Fame! You'll be as famous as famous can be,\n",
      "with the whole wide world watching you win on TV.\n",
      "\n",
      "Except when they don't\n",
      "Because, sometimes they won't.\n",
      "\n",
      "I'm afraid that some times\n",
      "you'll play lonely games too.\n",
      "Games you can't win\n",
      "'cause you'll play against you.\n",
      "\n",
      "All Alone!\n",
      "Whether you like it or not,\n",
      "Alone will be something\n",
      "you'll be quite a lot.\n",
      "\n",
      "And when you're alone, there's a very good chance\n",
      "you'll meet things that scare you right out of your pants.\n",
      "There are some, down the road between hither and yon,\n",
      "that can scare you so much you won't want to go on.\n",
      "\n",
      "But on you will go\n",
      "though the weather be foul.\n",
      "On you will go\n",
      "though your enemies prowl.\n",
      "On you will go\n",
      "though the Hakken-Kraks howl.\n",
      "Onward up many\n",
      "a frightening creek,\n",
      "though your arms may get sore\n",
      "and your sneakers may leak.\n",
      "\n",
      "On and on you will hike,\n",
      "And I know you'll hike far\n",
      "and face up to your problems\n",
      "whatever they are.\n",
      "\n",
      "You'll get mixed up, of course,\n",
      "as you already know.\n",
      "You'll get mixed up\n",
      "with many strange birds as you go.\n",
      "So be sure when you step.\n",
      "Step with care and great tact\n",
      "and remember that Life's\n",
      "a Great Balancing Act.\n",
      "Just never foget to be dexterous and deft.\n",
      "And never mix up your right foot with your left.\n",
      "\n",
      "And will you succeed?\n",
      "Yes! You will, indeed!\n",
      "(98 and 3/4 percent guaranteed.)\n",
      "\n",
      "KID, YOU'LL MOVE MOUNTAINS!\n",
      "\n",
      "So...\n",
      "be your name Buxbaum or Bixby or Bray\n",
      "or Mordecai Ali Van Allen O'Shea,\n",
      "You're off the Great Places!\n",
      "Today is your day!\n",
      "Your mountain is waiting.\n",
      "So...get on your way!I think perhaps we shouldn't be going anywhere\n",
      "after all, there is a global pandemic at the moment.I think perhaps we shouldn't be going anywhere\n",
      "after all, there is a global pandemic at the moment.I think perhaps we shouldn't be going anywhere\n",
      "after all, there is a global pandemic at the moment.\n"
     ]
    }
   ],
   "source": [
    "with open(\"OTPYG.txt\", \"r\") as f:\n",
    "    print(f.read())"
   ]
  },
  {
   "cell_type": "code",
   "execution_count": 0,
   "metadata": {
    "collapsed": false
   },
   "outputs": [
   ],
   "source": [
   ]
  }
 ],
 "metadata": {
  "kernelspec": {
   "display_name": "Python 3 (system-wide)",
   "language": "python",
   "metadata": {
    "cocalc": {
     "description": "Python 3 programming language",
     "priority": 100,
     "url": "https://www.python.org/"
    }
   },
   "name": "python3"
  },
  "language_info": {
   "codemirror_mode": {
    "name": "ipython",
    "version": 3
   },
   "file_extension": ".py",
   "mimetype": "text/x-python",
   "name": "python",
   "nbconvert_exporter": "python",
   "pygments_lexer": "ipython3",
   "version": "3.6.9"
  }
 },
 "nbformat": 4,
 "nbformat_minor": 4
}