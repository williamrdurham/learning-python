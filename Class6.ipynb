{
 "cells": [
  {
   "cell_type": "markdown",
   "metadata": {
    "collapsed": false
   },
   "source": [
    "# Class 6"
   ]
  },
  {
   "cell_type": "markdown",
   "metadata": {
    "collapsed": false
   },
   "source": [
    "## While loops"
   ]
  },
  {
   "cell_type": "code",
   "execution_count": 6,
   "metadata": {
    "collapsed": false
   },
   "outputs": [
    {
     "name": "stdout",
     "output_type": "stream",
     "text": [
      "0\n",
      "1\n",
      "2\n",
      "3\n"
     ]
    }
   ],
   "source": [
    "i = 0\n",
    "while i < 3:\n",
    "    print(i)\n",
    "    i+=1"
   ]
  },
  {
   "cell_type": "code",
   "execution_count": 11,
   "metadata": {
    "collapsed": false
   },
   "outputs": [
   ],
   "source": [
    "#Don't execute\n",
    "#while True:\n",
    "#    pass # do nothing"
   ]
  },
  {
   "cell_type": "code",
   "execution_count": 16,
   "metadata": {
    "collapsed": false
   },
   "outputs": [
    {
     "name": "stdout",
     "output_type": "stream",
     "text": [
      "HEllo. My namE is Will and this is a whilE loop.\n"
     ]
    }
   ],
   "source": [
    "string = \"Hello. My name is Will and this is a while loop.\"\n",
    "\n",
    "# use a while loop to replace each \"e\" with \"E\"\n",
    "#string.replace(\"e\", \"E\")\n",
    "\n",
    "while string.count(\"e\") > 0:\n",
    "    first_e = string.find(\"e\")\n",
    "    string = string[:first_e] + \"E\" + string[first_e+1:]\n",
    "print(string)"
   ]
  },
  {
   "cell_type": "code",
   "execution_count": 17,
   "metadata": {
    "collapsed": false
   },
   "outputs": [
    {
     "name": "stdout",
     "output_type": "stream",
     "text": [
      "H1llo. My nam2 is Will and this is a whil3 loop.\n"
     ]
    }
   ],
   "source": [
    "#Something more complicated\n",
    "\n",
    "string = \"Hello. My name is Will and this is a while loop.\"\n",
    "\n",
    "i = 1\n",
    "# use a while loop to replace each \"e\" with \"i = number\"\n",
    "while string.count(\"e\") > 0:\n",
    "    first_e = string.find(\"e\")\n",
    "    string = string[:first_e] + str(i) + string[first_e+1:]\n",
    "    i += 1\n",
    "print(string)"
   ]
  },
  {
   "cell_type": "code",
   "execution_count": 32,
   "metadata": {
    "collapsed": false
   },
   "outputs": [
    {
     "name": "stdout",
     "output_type": "stream",
     "text": [
      "H1llo. My nam13 is Will and this is a whil41 loop.\n"
     ]
    }
   ],
   "source": [
    "string = \"Hello. My name is Will and this is a while loop.\"\n",
    "\n",
    "new_string = string\n",
    "i = 1\n",
    "# use a while loop to replace each \"e\" with \"i = number\"\n",
    "while new_string.count(\"e\") > 0:\n",
    "    first_e_in_string = string.find(\"e\")\n",
    "    first_e_in_new_string = new_string.find(\"e\")\n",
    "    string = string[:first_e_in_string] + \"_\" + string[first_e_in_string + 1:]\n",
    "    new_string = new_string[:first_e_in_new_string] + str(first_e_in_string) + new_string[first_e_in_new_string+1:]\n",
    "print(new_string)\n"
   ]
  },
  {
   "cell_type": "markdown",
   "metadata": {
    "collapsed": false
   },
   "source": [
    "# `break` statements"
   ]
  },
  {
   "cell_type": "code",
   "execution_count": 29,
   "metadata": {
    "collapsed": false
   },
   "outputs": [
    {
     "name": "stdout",
     "output_type": "stream",
     "text": [
      "0\n",
      "1\n",
      "2\n",
      "3\n"
     ]
    }
   ],
   "source": [
    "i = 0\n",
    "while i < 10:\n",
    "    print(i)\n",
    "    i+=1\n",
    "    if i == 4:\n",
    "        break"
   ]
  },
  {
   "cell_type": "code",
   "execution_count": 33,
   "metadata": {
    "collapsed": false
   },
   "outputs": [
    {
     "name": "stdout",
     "output_type": "stream",
     "text": [
      "nope\n"
     ]
    }
   ],
   "source": [
    "i = 4\n",
    "if i < 3:\n",
    "    print(\"yippee\")\n",
    "else:\n",
    "    print(\"nope\")"
   ]
  },
  {
   "cell_type": "markdown",
   "metadata": {
    "collapsed": false
   },
   "source": [
    "# `break` - `else`"
   ]
  },
  {
   "cell_type": "code",
   "execution_count": 36,
   "metadata": {
    "collapsed": false
   },
   "outputs": [
    {
     "name": "stdout",
     "output_type": "stream",
     "text": [
      "5\n",
      "6\n",
      "7\n",
      "8\n",
      "9\n",
      "the loop didn't break\n",
      "I always execute\n"
     ]
    }
   ],
   "source": [
    "i = 5\n",
    "while i< 10:\n",
    "    print(i)\n",
    "    i += 1\n",
    "    if i == 5:\n",
    "        break\n",
    "else:\n",
    "    print(\"the loop didn't break\")\n",
    "    \n",
    "print(\"I always execute\")"
   ]
  },
  {
   "cell_type": "markdown",
   "metadata": {
    "collapsed": false
   },
   "source": [
    "# `continue`"
   ]
  },
  {
   "cell_type": "code",
   "execution_count": 39,
   "metadata": {
    "collapsed": false
   },
   "outputs": [
    {
     "name": "stdout",
     "output_type": "stream",
     "text": [
      "0\n",
      "1\n",
      "2\n",
      "3\n",
      "4\n",
      "5\n",
      "6\n",
      "7\n",
      "8\n",
      "9\n"
     ]
    }
   ],
   "source": [
    "i = 0\n",
    "while i< 10:\n",
    "    print(i)\n",
    "    i+=1\n",
    "    if i == 5:\n",
    "        continue"
   ]
  },
  {
   "cell_type": "code",
   "execution_count": 0,
   "metadata": {
    "collapsed": false
   },
   "outputs": [
   ],
   "source": [
   ]
  }
 ],
 "metadata": {
  "kernelspec": {
   "display_name": "Python 3 (system-wide)",
   "language": "python",
   "metadata": {
    "cocalc": {
     "description": "Python 3 programming language",
     "priority": 100,
     "url": "https://www.python.org/"
    }
   },
   "name": "python3"
  },
  "language_info": {
   "codemirror_mode": {
    "name": "ipython",
    "version": 3
   },
   "file_extension": ".py",
   "mimetype": "text/x-python",
   "name": "python",
   "nbconvert_exporter": "python",
   "pygments_lexer": "ipython3",
   "version": "3.6.9"
  }
 },
 "nbformat": 4,
 "nbformat_minor": 4
}