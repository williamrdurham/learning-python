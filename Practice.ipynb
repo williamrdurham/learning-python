{
 "cells": [
  {
   "cell_type": "code",
   "execution_count": 1,
   "metadata": {
    "scrolled": true
   },
   "outputs": [
    {
     "name": "stdout",
     "output_type": "stream",
     "text": [
      "Hello, World!\n"
     ]
    }
   ],
   "source": [
    "\n",
    "print(\"Hello, World!\")"
   ]
  },
  {
   "cell_type": "code",
   "execution_count": 23,
   "metadata": {},
   "outputs": [
    {
     "ename": "SyntaxError",
     "evalue": "invalid syntax (<ipython-input-23-3ad10f49a6a8>, line 1)",
     "output_type": "error",
     "traceback": [
      "\u001b[1;36m  File \u001b[1;32m\"<ipython-input-23-3ad10f49a6a8>\"\u001b[1;36m, line \u001b[1;32m1\u001b[0m\n\u001b[1;33m    pip install jupyterthemes\u001b[0m\n\u001b[1;37m              ^\u001b[0m\n\u001b[1;31mSyntaxError\u001b[0m\u001b[1;31m:\u001b[0m invalid syntax\n"
     ]
    }
   ],
   "source": [
    "pip install jupyterthemes\n",
    "jt -t chesterish"
   ]
  },
  {
   "cell_type": "code",
   "execution_count": 5,
   "metadata": {},
   "outputs": [
    {
     "name": "stdout",
     "output_type": "stream",
     "text": [
      "Goodbye, cruel world!\n"
     ]
    }
   ],
   "source": [
    "#This is a comment\n",
    "print(\"Goodbye, cruel world!\")"
   ]
  },
  {
   "cell_type": "code",
   "execution_count": 3,
   "metadata": {},
   "outputs": [
    {
     "name": "stdout",
     "output_type": "stream",
     "text": [
      "Five is greater than two!\n"
     ]
    }
   ],
   "source": [
    "if 5 > 2:\n",
    "    print(\"Five is greater than two!\")"
   ]
  },
  {
   "cell_type": "code",
   "execution_count": 4,
   "metadata": {},
   "outputs": [],
   "source": [
    "x = 5\n",
    "y = \"Hello, World!\""
   ]
  },
  {
   "cell_type": "code",
   "execution_count": 6,
   "metadata": {},
   "outputs": [
    {
     "data": {
      "text/plain": [
       "'\\nMulti-line comment!\\n'"
      ]
     },
     "execution_count": 6,
     "metadata": {},
     "output_type": "execute_result"
    }
   ],
   "source": [
    "\"\"\"\n",
    "Multi-line comment!\n",
    "\"\"\""
   ]
  },
  {
   "cell_type": "code",
   "execution_count": 1,
   "metadata": {},
   "outputs": [
    {
     "name": "stdout",
     "output_type": "stream",
     "text": [
      "Hello\n",
      "Hello\n",
      "Hello\n"
     ]
    }
   ],
   "source": [
    "print(\"Hello\")\n",
    "print('Hello')\n",
    "a = \"Hello\"\n",
    "print(a)"
   ]
  },
  {
   "cell_type": "code",
   "execution_count": 2,
   "metadata": {},
   "outputs": [
    {
     "name": "stdout",
     "output_type": "stream",
     "text": [
      "Lorem ipsum dolor sit amet,\n",
      "consectetur adipiscing elit,\n",
      "sed do eiusmod tempor incididunt\n",
      "ut labore et dolore magna aliqua.\n"
     ]
    }
   ],
   "source": [
    "a = \"\"\"Lorem ipsum dolor sit amet,\n",
    "consectetur adipiscing elit,\n",
    "sed do eiusmod tempor incididunt\n",
    "ut labore et dolore magna aliqua.\"\"\"\n",
    "print(a)"
   ]
  },
  {
   "cell_type": "code",
   "execution_count": 4,
   "metadata": {},
   "outputs": [
    {
     "name": "stdout",
     "output_type": "stream",
     "text": [
      "Lorem ipsum dolor sit amet,\n",
      "consectetur adipiscing elit,\n",
      "sed do eiusmod tempor incididunt\n",
      "ut labore et dolore magna aliqua\n"
     ]
    }
   ],
   "source": [
    "a = '''Lorem ipsum dolor sit amet,\n",
    "consectetur adipiscing elit,\n",
    "sed do eiusmod tempor incididunt\n",
    "ut labore et dolore magna aliqua'''\n",
    "print(a)"
   ]
  },
  {
   "cell_type": "code",
   "execution_count": 5,
   "metadata": {},
   "outputs": [
    {
     "name": "stdout",
     "output_type": "stream",
     "text": [
      "e\n"
     ]
    }
   ],
   "source": [
    "a = \"Hello, World!\"\n",
    "print(a[1])"
   ]
  },
  {
   "cell_type": "code",
   "execution_count": 6,
   "metadata": {},
   "outputs": [
    {
     "name": "stdout",
     "output_type": "stream",
     "text": [
      "llo\n"
     ]
    }
   ],
   "source": [
    "b = \"Hello, World!\"\n",
    "print(b[2:5])"
   ]
  },
  {
   "cell_type": "code",
   "execution_count": 7,
   "metadata": {},
   "outputs": [
    {
     "name": "stdout",
     "output_type": "stream",
     "text": [
      "orl\n"
     ]
    }
   ],
   "source": [
    "b = \"Hello, World!\"\n",
    "print(b[-5:-2])"
   ]
  },
  {
   "cell_type": "code",
   "execution_count": 10,
   "metadata": {},
   "outputs": [
    {
     "name": "stdout",
     "output_type": "stream",
     "text": [
      "13\n",
      "13\n"
     ]
    }
   ],
   "source": [
    "print(len(a))\n",
    "print(len(b))"
   ]
  },
  {
   "cell_type": "code",
   "execution_count": 24,
   "metadata": {},
   "outputs": [
    {
     "name": "stdout",
     "output_type": "stream",
     "text": [
      "Hello, World!\n",
      "hello, world!\n",
      "HELLO, WORLD!\n",
      "Jello, World!\n",
      "['Hello', ' World!']\n",
      "True\n",
      "HelloWorld\n",
      "Hello World\n",
      "My name is John and I am 36\n",
      "I want 3 pieces of item 567 for 49.95 dollars.\n",
      "I want to pay 49.95 dollars for 3 pieces of 567.\n",
      "We are the so-called \"Vikings\" from the north.\n"
     ]
    }
   ],
   "source": [
    "a = \" Hello, World! \"\n",
    "print(a.strip()) # returns \"Hello, World!\"\n",
    "a = \"Hello, World!\"\n",
    "print(a.lower())\n",
    "print(a.upper())\n",
    "print(a.replace(\"H\", \"J\"))\n",
    "a = \"Hello, World!\"\n",
    "print(a.split(\",\")) # returns ['Hello', 'World!']\n",
    "txt = \"The rain in Spain stays mainly in the plain\"\n",
    "x = \"ain\" in txt\n",
    "print(x)\n",
    "a = \"Hello\"\n",
    "b = \"World\"\n",
    "c = a + b\n",
    "d = a + \" \" + b\n",
    "print(c)\n",
    "print(d)\n",
    "# Can't combine string and numeric characters without manipulation\n",
    "# key is 'format'\n",
    "\n",
    "age = 36\n",
    "txt = \"My name is John and I am {}\"\n",
    "# {} is a receiver for numeric input\n",
    "print(txt.format(age))\n",
    "\n",
    "quantity = 3\n",
    "itemno = 567\n",
    "price = 49.95\n",
    "myorder = \"I want {} pieces of item {} for {} dollars.\"\n",
    "print(myorder.format(quantity, itemno, price))\n",
    "myorder1 = \"I want to pay {2} dollars for {0} pieces of {1}.\"\n",
    "print(myorder1.format(quantity, itemno, price))\n",
    "\n",
    "# Using quotes in string\n",
    "txt = \"We are the so-called \\\"Vikings\\\" from the north.\"\n",
    "print(txt)"
   ]
  },
  {
   "cell_type": "code",
   "execution_count": 32,
   "metadata": {},
   "outputs": [
    {
     "name": "stdout",
     "output_type": "stream",
     "text": [
      "True\n",
      "False\n",
      "False\n",
      "b is not greater than a\n",
      "True\n",
      "True\n",
      "True\n",
      "True\n",
      "False\n"
     ]
    }
   ],
   "source": [
    "# Booleans\n",
    "print(10 > 9)\n",
    "print(10 == 9)\n",
    "print(10 < 9)\n",
    "\n",
    "a = 200\n",
    "b = 33\n",
    "if b> a:\n",
    "    print(\"b is greater than a\")\n",
    "else:\n",
    "    print(\"b is not greater than a\")\n",
    "\n",
    "# Evaluating values and variables\n",
    "print(bool(\"Hello\"))\n",
    "print(bool(15))\n",
    "# bool() tells us if the string is empty\n",
    "x = \"Hello\"\n",
    "y = 15\n",
    "\n",
    "# variables\n",
    "print(bool(x))\n",
    "print(bool(y))\n",
    "\n",
    "bool(\"abc\")\n",
    "bool(123)\n",
    "bool([\"apple\", \"cherry\", \"banana\"])\n",
    "\n",
    "# False values\n",
    "bool(False)\n",
    "bool(None)\n",
    "bool(0)\n",
    "bool(\"\")\n",
    "bool(())\n",
    "bool([])\n",
    "bool({})"
   ]
  },
  {
   "cell_type": "code",
   "execution_count": 34,
   "metadata": {},
   "outputs": [
    {
     "name": "stdout",
     "output_type": "stream",
     "text": [
      "False\n",
      "True\n"
     ]
    }
   ],
   "source": [
    "# A false function\n",
    "class myclass():\n",
    "    def __len__(self):\n",
    "        return 0\n",
    "\n",
    "myobj = myclass()\n",
    "print(bool(myobj))\n",
    "\n",
    "# Another example\n",
    "x = 200\n",
    "print(isinstance(x, int))"
   ]
  },
  {
   "cell_type": "code",
   "execution_count": 41,
   "metadata": {},
   "outputs": [
    {
     "name": "stdout",
     "output_type": "stream",
     "text": [
      "5 6 (5+6j)\n",
      "11\n",
      "-1\n",
      "30\n",
      "-1\n",
      "1\n",
      "(-1886.2497878073304-7543.7548832127895j)\n",
      "0\n"
     ]
    }
   ],
   "source": [
    "# Arithmetic operators\n",
    "x = 5\n",
    "y = 6\n",
    "z = complex(x, y)\n",
    "print(x, y, z)\n",
    "print(x + y)\n",
    "print(x-y)\n",
    "print(x*y)\n",
    "print(x-y)\n",
    "print(y%x)\n",
    "print(y**z)\n",
    "print(x//y)"
   ]
  },
  {
   "cell_type": "code",
   "execution_count": 15,
   "metadata": {},
   "outputs": [
    {
     "name": "stdout",
     "output_type": "stream",
     "text": [
      "('apple', 'banana', 'cherry')\n",
      "apple\n",
      "cherry\n",
      "('banana', 'cherry', 'orange')\n",
      "('apple', 'kiwi', 'cherry')\n",
      "apple\n",
      "banana\n",
      "cherry\n",
      "orange\n",
      "kiwi\n",
      "melon\n",
      "Yes, 'apple' is in the fruits tuple.\n",
      "6\n",
      "('a', 'b', 'c', 1, 2, 3)\n",
      "('apple', 'banana', 'cherry')\n"
     ]
    }
   ],
   "source": [
    "tuple1 = (\"apple\", \"banana\", \"cherry\")\n",
    "print(tuple1)\n",
    "print(tuple1[0])\n",
    "print(tuple1[-1])\n",
    "tuple2 = (\"apple\", \"banana\", \"cherry\", \"orange\", \"kiwi\", \"melon\")\n",
    "print(tuple2[1:4])\n",
    "tuple3 = (\"apple\", \"banana\", \"cherry\")\n",
    "\n",
    "# Substitution\n",
    "y = list(tuple3)\n",
    "y[1] = \"kiwi\"\n",
    "tuple3 = tuple(y)\n",
    "print(tuple3)\n",
    "# Loop Tuple\n",
    "for x in tuple2:\n",
    "    print(x)\n",
    "# Existence\n",
    "if \"apple\" in tuple2:\n",
    "    print(\"Yes, 'apple' is in the fruits tuple.\")\n",
    "# Length\n",
    "print(len(tuple2))\n",
    "# Adding tuples\n",
    "tuple4 = (\"a\", \"b\", \"c\")\n",
    "tuple5 = (1, 2, 3)\n",
    "tuple6 = tuple4 + tuple5\n",
    "print(tuple6)\n",
    "\n",
    "# Tuple constructor\n",
    "thistuple = tuple((\"apple\", \"banana\", \"cherry\"))\n",
    "print(thistuple)\n"
   ]
  },
  {
   "cell_type": "code",
   "execution_count": 32,
   "metadata": {},
   "outputs": [
    {
     "name": "stdout",
     "output_type": "stream",
     "text": [
      "APLA isn't really applied, that part was a joke\n",
      "{'Algebra', 'Linear', 'Advanced'}\n",
      "Algebra\n",
      "Linear\n",
      "Advanced\n",
      "True\n",
      "{'Algebra', 'Applied', 'Linear', 'Advanced'}\n",
      "{'Linear', 'Algebra', 'Data Science', 'Advanced', 'Applied', 'Data Sets', 'Articulate'}\n",
      "6\n",
      "{'c', 1, 'a', 2, 3, 'b'}\n",
      "{'c', 1, 'a', 2, 3, 'b'}\n",
      "{'c', 'a', 'd', 'b'}\n"
     ]
    }
   ],
   "source": [
    "#Sets\n",
    "\n",
    "APLA = {\"Advanced\", \"Linear\", \"Algebra\"}\n",
    "if \"Applied\" in APLA:\n",
    "    print(\"APLA includes applications of Linear Algebra!\")\n",
    "else:\n",
    "    print(\"APLA isn't really applied, that part was a joke\")\n",
    "\n",
    "print(APLA)\n",
    "\n",
    "# Looping in sets\n",
    "for x in APLA:\n",
    "    print(x)\n",
    "    \n",
    "# Existence\n",
    "print(\"Advanced\" in APLA)\n",
    "\n",
    "# Adding elements\n",
    "APLA.add(\"Applied\")\n",
    "print(APLA)\n",
    "APLA.update([\"Articulate\", \"Data Sets\", \"Data Science\"])\n",
    "print(APLA)\n",
    "\n",
    "# Discard\n",
    "APLA.remove(\"Applied\")\n",
    "\n",
    "# Length\n",
    "print(len(APLA))\n",
    "\n",
    "# Union of Sets\n",
    "set1 = {\"a\", \"b\", \"c\"}\n",
    "set2 = {1, 2, 3}\n",
    "set3 = set1.union(set2)\n",
    "print(set3)\n",
    "\n",
    "# or we could try\n",
    "\n",
    "set1.update(set2)\n",
    "print(set1)\n",
    "\n",
    "#Set constructor\n",
    "newset = set((\"a\", \"b\" , \"c\", \"d\"))\n",
    "print(newset)"
   ]
  },
  {
   "cell_type": "code",
   "execution_count": 17,
   "metadata": {},
   "outputs": [
    {
     "name": "stdout",
     "output_type": "stream",
     "text": [
      "{'artist': 'Don Toliver', 'album': 'Single', 'Song': \"Can't Feel My Legs\"}\n",
      "artist\n",
      "Don Toliver\n",
      "album\n",
      "Single\n",
      "Song\n",
      "Had Enough\n",
      "Don Toliver\n",
      "Single\n",
      "Had Enough\n",
      "artist Don Toliver\n",
      "album Single\n",
      "Song Had Enough\n",
      "Yes, 'song' is one of the keys in the dictionary1 dictionary\n",
      "{'artist': 'Don Toliver', 'album': 'Single', 'Song': 'Had Enough', 'genre': 'rap'}\n",
      "{'brand': 'Ford', 'model': 'Mustang', 'year': 1964}\n"
     ]
    }
   ],
   "source": [
    "#Dictionaries\n",
    "dictionary1 = {\n",
    "    \"artist\" : \"Don Toliver\",\n",
    "    \"album\" : \"Single\",\n",
    "    \"Song\" : \"Can't Feel My Legs\"\n",
    "}\n",
    "print(dictionary1)\n",
    "\n",
    "# Get\n",
    "x = dictionary1[\"artist\"]\n",
    "dictionary1.get(\"album\")\n",
    "\n",
    "# Changing Names\n",
    "dictionary1[\"Song\"] = \"Had Enough\"\n",
    "\n",
    "#Loops\n",
    "for x in dictionary1:\n",
    "    print(x)\n",
    "    print(dictionary1[x])\n",
    "\n",
    "for x in dictionary1.values():\n",
    "    print(x)\n",
    "    \n",
    "for x, y in dictionary1.items():\n",
    "    print(x,y)\n",
    "    \n",
    "#Checking existence\n",
    "if \"Song\" in dictionary1:\n",
    "    print(\"Yes, 'song' is one of the keys in the dictionary1 dictionary\")\n",
    "\n",
    "#Length is same as others\n",
    "\n",
    "#Adding itemss\n",
    "dictionary1[\"genre\"] = \"rap\"\n",
    "print(dictionary1)\n",
    "\n",
    "#Nested Dictionaries\n",
    "myfamily = {\n",
    "  \"child1\" : {\n",
    "    \"name\" : \"Emil\",\n",
    "    \"year\" : 2004\n",
    "  },\n",
    "  \"child2\" : {\n",
    "    \"name\" : \"Tobias\",\n",
    "    \"year\" : 2007\n",
    "  },\n",
    "  \"child3\" : {\n",
    "    \"name\" : \"Linus\",\n",
    "    \"year\" : 2011\n",
    "  }\n",
    "}\n",
    "\n",
    "#Another method\n",
    "child1 = {\n",
    "  \"name\" : \"Emil\",\n",
    "  \"year\" : 2004\n",
    "}\n",
    "child2 = {\n",
    "  \"name\" : \"Tobias\",\n",
    "  \"year\" : 2007\n",
    "}\n",
    "child3 = {\n",
    "  \"name\" : \"Linus\",\n",
    "  \"year\" : 2011\n",
    "}\n",
    "\n",
    "myfamily = {\n",
    "  \"child1\" : child1,\n",
    "  \"child2\" : child2,\n",
    "  \"child3\" : child3\n",
    "}\n",
    "\n",
    "#dictionary constructor\n",
    "thisdict = dict(brand=\"Ford\", model=\"Mustang\", year=1964)\n",
    "# note that keywords are not string literals\n",
    "# note the use of equals rather than colon for the assignment\n",
    "print(thisdict)\n",
    "\n"
   ]
  },
  {
   "cell_type": "code",
   "execution_count": 27,
   "metadata": {},
   "outputs": [
    {
     "name": "stdout",
     "output_type": "stream",
     "text": [
      "a and b are equal\n",
      "a is greater than b\n",
      "B\n",
      "Both conditions are True\n",
      "At least one of the conditions is true\n",
      "Above ten,\n",
      "and also above 20!\n"
     ]
    }
   ],
   "source": [
    "#If...Else Loops\n",
    "\n",
    "#Elif conditions\n",
    "a = 33\n",
    "b = 33\n",
    "if b>a:\n",
    "    print(\"b is greater than a\")\n",
    "elif a == b:\n",
    "    print(\"a and b are equal\")\n",
    "    \n",
    "#Else\n",
    "a = 200\n",
    "b = 33\n",
    "if b> a:\n",
    "    print(\"b is greater than a\")\n",
    "elif a == b:\n",
    "    print(\"a and b are equal\")\n",
    "else:\n",
    "    print(\"a is greater than b\")\n",
    "    \n",
    "#Shorthand\n",
    "a = 2\n",
    "b = 330\n",
    "print(\"A\") if a > b else print(\"B\")\n",
    "\n",
    "#Combinations with AND\n",
    "a = 200\n",
    "b = 33\n",
    "c = 500\n",
    "\n",
    "if a > b and c > a:\n",
    "    print(\"Both conditions are True\")\n",
    "\n",
    "#Using OR\n",
    "a = 200\n",
    "b = 33\n",
    "c = 500\n",
    "\n",
    "if a > b or a > c:\n",
    "    print(\"At least one of the conditions is true\")\n",
    "    \n",
    "#Nested if\n",
    "x = 41\n",
    "if x > 10:\n",
    "    print(\"Above ten,\")\n",
    "    if x > 20:\n",
    "        print(\"and also above 20!\")\n",
    "    else:\n",
    "        print(\"but not above 20.\")\n",
    "        \n",
    "#Pass\n",
    "a = 33\n",
    "b = 200\n",
    "if b > a:\n",
    "    pass"
   ]
  },
  {
   "cell_type": "code",
   "execution_count": 34,
   "metadata": {},
   "outputs": [
    {
     "name": "stdout",
     "output_type": "stream",
     "text": [
      "1\n",
      "2\n",
      "3\n",
      "1\n",
      "2\n",
      "4\n",
      "5\n",
      "6\n",
      "1\n",
      "2\n",
      "3\n",
      "4\n",
      "5\n",
      "i is no longer less than 6\n"
     ]
    }
   ],
   "source": [
    "#While loops\n",
    "#i = 1\n",
    "#while i < 6:\n",
    "#    print(i)\n",
    "#    i += 1\n",
    "    \n",
    "#The break statement\n",
    "#exiting loops\n",
    "i =1\n",
    "while i < 6:\n",
    "    print(i)\n",
    "    if i == 3:\n",
    "         break\n",
    "    i += 1\n",
    "\n",
    "#Continue\n",
    "i = 0\n",
    "while i< 6:\n",
    "    i+=1\n",
    "    if i==3:\n",
    "        continue\n",
    "    print(i)\n",
    "    \n",
    "#Else, running code after false condition\n",
    "i = 1\n",
    "while i < 6:\n",
    "    print(i)\n",
    "    i += 1\n",
    "else:\n",
    "    print(\"i is no longer less than 6\")"
   ]
  },
  {
   "cell_type": "code",
   "execution_count": 47,
   "metadata": {},
   "outputs": [
    {
     "name": "stdout",
     "output_type": "stream",
     "text": [
      "apple\n",
      "banana\n",
      "cherry\n",
      "b\n",
      "a\n",
      "n\n",
      "a\n",
      "n\n",
      "a\n",
      "apple\n",
      "banana\n",
      "apple\n",
      "apple\n",
      "cherry\n",
      "0\n",
      "1\n",
      "2\n",
      "3\n",
      "4\n",
      "5\n",
      "2\n",
      "3\n",
      "4\n",
      "5\n",
      "2\n",
      "5\n",
      "8\n",
      "11\n",
      "14\n",
      "17\n",
      "20\n",
      "23\n",
      "26\n",
      "29\n",
      "0\n",
      "1\n",
      "2\n",
      "3\n",
      "4\n",
      "5\n",
      "Finally finished\n",
      "red apple\n",
      "red banana\n",
      "red cherry\n",
      "big apple\n",
      "big banana\n",
      "big cherry\n",
      "tasty apple\n",
      "tasty banana\n",
      "tasty cherry\n"
     ]
    }
   ],
   "source": [
    "#For loops\n",
    "fruits = [\"apple\", \"banana\", \"cherry\"]\n",
    "\n",
    "#simple\n",
    "for x in fruits:\n",
    "    print(x)\n",
    "\n",
    "#loop in string\n",
    "for x in \"banana\":\n",
    "    print(x)\n",
    "\n",
    "#Break\n",
    "for x in fruits:\n",
    "    print(x)\n",
    "    if x == \"banana\":\n",
    "        break\n",
    "        \n",
    "for x in fruits:\n",
    "    if x == \"banana\":\n",
    "        break\n",
    "    print(x)\n",
    "\n",
    "#continue\n",
    "for x in fruits:\n",
    "    if x == \"banana\":\n",
    "        continue\n",
    "    print(x)\n",
    "    \n",
    "#range\n",
    "for x in range(6):\n",
    "    print(x)\n",
    "\n",
    "for x in range(2, 6):\n",
    "    print(x)\n",
    "\n",
    "for x in range(2, 30, 3):\n",
    "    print(x)\n",
    "\n",
    "#Including else\n",
    "for x in range(6):\n",
    "    print(x)\n",
    "else: print(\"Finally finished\")\n",
    "    \n",
    "#Nesting\n",
    "adj = [\"red\", \"big\", \"tasty\"]\n",
    "fruits = [\"apple\", \"banana\", \"cherry\"]\n",
    "\n",
    "for x in adj:\n",
    "    for y in fruits:\n",
    "        print(x, y)\n",
    "\n",
    "#pass\n",
    "for x in [0, 1, 2]:\n",
    "    pass"
   ]
  },
  {
   "cell_type": "code",
   "execution_count": 65,
   "metadata": {},
   "outputs": [
    {
     "name": "stdout",
     "output_type": "stream",
     "text": [
      "Hello from a function\n",
      "Emil Refsnes\n",
      "Tobias Refsnes\n",
      "Linus Refsnes\n",
      "Emil Refsnes\n",
      "The youngest child is Linus\n",
      "The youngest child is Linus\n",
      "His last name is Refsnes\n",
      "I am from Sweden\n",
      "I am from India\n",
      "I am from Norway\n",
      "I am from Brazil\n",
      "apple\n",
      "banana\n",
      "cherry\n",
      "30\n",
      "50\n",
      "190\n",
      "\n",
      "\n",
      "Recursion Example Results\n",
      "1\n",
      "3\n",
      "6\n",
      "10\n",
      "15\n",
      "21\n"
     ]
    },
    {
     "data": {
      "text/plain": [
       "21"
      ]
     },
     "execution_count": 65,
     "metadata": {},
     "output_type": "execute_result"
    }
   ],
   "source": [
    "#Functions\n",
    "def my_function():\n",
    "    print(\"Hello from a function\")\n",
    "    \n",
    "my_function()\n",
    "\n",
    "#arguments\n",
    "def func2(fname):\n",
    "    print(fname + \"Refsnes\")\n",
    "\n",
    "func2(\"Emil \")\n",
    "func2(\"Tobias \")\n",
    "func2(\"Linus \")\n",
    "\n",
    "#Parameter vs. Argument\n",
    "def func3(fname, lname):\n",
    "    print(fname+ \" \" +lname)\n",
    "    \n",
    "func3(\"Emil\", \"Refsnes\")\n",
    "\n",
    "#Arbitrary Arguments\n",
    "def func4(*kids):\n",
    "    print(\"The youngest child is \" + kids[2])\n",
    "func4(\"Emil\", \"Tobias\", \"Linus\")\n",
    "\n",
    "#Keyword Arguments\n",
    "def func5(child3, child2, child1):\n",
    "    print(\"The youngest child is \" + child3)\n",
    "    \n",
    "func5(child1 = \"Emil\", child2 = \"Tobias\", child3 = \"Linus\")\n",
    "\n",
    "#Arbitrary Keyword Arguments\n",
    "def func6(**kid):\n",
    "    print(\"His last name is \" + kid[\"lname\"])\n",
    "    \n",
    "func6(fname = \"Tobias\", lname = \"Refsnes\")\n",
    "\n",
    "#Default Parameter Value\n",
    "\n",
    "def func7(country = \"Norway\"):\n",
    "    print(\"I am from \" + country)\n",
    "\n",
    "func7(\"Sweden\")\n",
    "func7(\"India\")\n",
    "func7()\n",
    "func7(\"Brazil\")\n",
    "\n",
    "#Passing list as an argument\n",
    "def func8(food):\n",
    "    for x in food:\n",
    "        print(x)\n",
    "\n",
    "fruits = [\"apple\", \"banana\", \"cherry\"]\n",
    "func8(fruits)\n",
    "\n",
    "#Return values\n",
    "def func9(x):\n",
    "    return 5*x\n",
    "\n",
    "print(func9(6))\n",
    "print(func9(10))\n",
    "print(func9(38))\n",
    "\n",
    "#Recursion\n",
    "def tri_recursion(k):\n",
    "    if(k>0):\n",
    "        result = k+tri_recursion(k-1)\n",
    "        print(result)\n",
    "    else:\n",
    "        result = 0\n",
    "    return result\n",
    "\n",
    "print(\"\\n\\nRecursion Example Results\")\n",
    "tri_recursion(6)"
   ]
  },
  {
   "cell_type": "code",
   "execution_count": 71,
   "metadata": {},
   "outputs": [
    {
     "name": "stdout",
     "output_type": "stream",
     "text": [
      "15\n",
      "30\n",
      "13\n",
      "22\n"
     ]
    }
   ],
   "source": [
    "#Python Lambda\n",
    "x = lambda a : a + 10\n",
    "print(x(5))\n",
    "\n",
    "x = lambda a, b : a * b\n",
    "print(x(5, 6))\n",
    "\n",
    "x = lambda a, b, c : a + b + c\n",
    "print(x(5, 6, 2))\n",
    "\n",
    "#Why use lambda? Inside other functions it works well\n",
    "def myfunc(n):\n",
    "    return lambda a : a*n\n",
    "\n",
    "doubler = myfunc(2)\n",
    "\n",
    "print(doubler(11))"
   ]
  },
  {
   "cell_type": "code",
   "execution_count": 76,
   "metadata": {},
   "outputs": [
    {
     "data": {
      "text/plain": [
       "3"
      ]
     },
     "execution_count": 76,
     "metadata": {},
     "output_type": "execute_result"
    }
   ],
   "source": [
    "#Arrays\n",
    "\n",
    "cars = [\"Ford\", \"Volvo\", \"BMW\"]\n",
    "\n",
    "#generating/modifying an array\n",
    "x = cars[0]\n",
    "cars[0] = \"Toyota\"\n",
    "x = len(cars)\n",
    "x\n",
    "\n",
    "#append\n",
    "cars.append(\"Honda\")"
   ]
  },
  {
   "cell_type": "code",
   "execution_count": 82,
   "metadata": {},
   "outputs": [
    {
     "name": "stdout",
     "output_type": "stream",
     "text": [
      "5\n",
      "John\n",
      "36\n",
      "Hello my name is John\n",
      "Hello my name is John\n",
      "Hello my name is John\n"
     ]
    }
   ],
   "source": [
    "#Python classes/objects\n",
    "class MyClass:\n",
    "    x= 5\n",
    "\n",
    "p1 = MyClass()\n",
    "print(p1.x)\n",
    "\n",
    "#__init__()\n",
    "class Person:\n",
    "    def __init__(self,name,age):\n",
    "        self.name = name\n",
    "        self.age = age\n",
    "\n",
    "p1 = Person(\"John\", 36)\n",
    "\n",
    "print(p1.name)\n",
    "print(p1.age)\n",
    "\n",
    "class Person:\n",
    "    def __init__(self, name, age):\n",
    "        self.name = name\n",
    "        self.age = age\n",
    "    def myfunc(self):\n",
    "        print(\"Hello my name is \" + self.name)\n",
    "\n",
    "p1 = Person(\"John\", 36)\n",
    "p1.myfunc()\n",
    "\n",
    "#The self Parameter\n",
    "class Person:\n",
    "    def __init__(mysillyobject, name, age):\n",
    "        mysillyobject.name = name\n",
    "        mysillyobject.age = age\n",
    "    \n",
    "    def myfunc(abc):\n",
    "        print(\"Hello my name is \" + abc.name)\n",
    "\n",
    "p1 = Person(\"John\", 36)\n",
    "p1.myfunc()\n",
    "\n",
    "#Object properties\n",
    "p1.age = 40\n",
    "\n"
   ]
  },
  {
   "cell_type": "code",
   "execution_count": 120,
   "metadata": {},
   "outputs": [
    {
     "name": "stdout",
     "output_type": "stream",
     "text": [
      "300\n",
      "300\n",
      "300\n",
      "300\n",
      "200\n",
      "300\n",
      "300\n",
      "200\n"
     ]
    }
   ],
   "source": [
    "# Python Scope\n",
    "#Local\n",
    "def myfunc():\n",
    "    x = 300\n",
    "    print(x)\n",
    "\n",
    "myfunc()\n",
    "\n",
    "#FuncinFunc\n",
    "def myfunc():\n",
    "    x = 300\n",
    "    def myinnerfunc():\n",
    "        print(x)\n",
    "    myinnerfunc()\n",
    "\n",
    "myfunc()\n",
    "\n",
    "#Global\n",
    "x = 300\n",
    "\n",
    "def myfunc():\n",
    "    print(x)\n",
    "\n",
    "myfunc()\n",
    "\n",
    "print(x)\n",
    "\n",
    "#Naming\n",
    "\n",
    "x =300\n",
    "def myfunc():\n",
    "    x =200\n",
    "    print(x)\n",
    "    \n",
    "myfunc()\n",
    "\n",
    "print(x)\n",
    "\n",
    "#Global Keyword\n",
    "def myfunc():\n",
    "    global x\n",
    "    x = 300\n",
    "\n",
    "myfunc()\n",
    "\n",
    "print(x)\n",
    "\n",
    "x = 300\n",
    "\n",
    "def myfunc():\n",
    "    global x\n",
    "    x = 200\n",
    "    \n",
    "myfunc()\n",
    "\n",
    "print(x)"
   ]
  },
  {
   "cell_type": "code",
   "execution_count": 121,
   "metadata": {},
   "outputs": [],
   "source": [
    "import numpy as np"
   ]
  },
  {
   "cell_type": "code",
   "execution_count": 122,
   "metadata": {},
   "outputs": [
    {
     "name": "stdout",
     "output_type": "stream",
     "text": [
      "2020-01-19 09:51:37.581020\n"
     ]
    }
   ],
   "source": [
    "import datetime\n",
    "\n",
    "x = datetime.datetime.now()\n",
    "print(x)"
   ]
  },
  {
   "cell_type": "code",
   "execution_count": 123,
   "metadata": {},
   "outputs": [
    {
     "name": "stdout",
     "output_type": "stream",
     "text": [
      "2020\n",
      "Sunday\n"
     ]
    }
   ],
   "source": [
    "import datetime\n",
    "x = datetime.datetime.now()\n",
    "\n",
    "print(x.year)\n",
    "print(x.strftime(\"%A\"))"
   ]
  },
  {
   "cell_type": "code",
   "execution_count": 124,
   "metadata": {},
   "outputs": [
    {
     "name": "stdout",
     "output_type": "stream",
     "text": [
      "2020-05-17 00:00:00\n"
     ]
    }
   ],
   "source": [
    "#Creating Date Objects\n",
    "import datetime\n",
    "\n",
    "x = datetime.datetime(2020, 5, 17)\n",
    "\n",
    "print(x)"
   ]
  },
  {
   "cell_type": "code",
   "execution_count": 125,
   "metadata": {},
   "outputs": [
    {
     "name": "stdout",
     "output_type": "stream",
     "text": [
      "June\n"
     ]
    }
   ],
   "source": [
    "import datetime\n",
    "x = datetime.datetime(2018, 6, 1)\n",
    "\n",
    "print(x.strftime(\"%B\"))"
   ]
  },
  {
   "cell_type": "code",
   "execution_count": 127,
   "metadata": {},
   "outputs": [
    {
     "name": "stdout",
     "output_type": "stream",
     "text": [
      "30\n"
     ]
    }
   ],
   "source": [
    "import json\n",
    "\n",
    "# some JSON\n",
    "x = '{\"name\" : \"John\", \"age\": 30, \"city\" : \"New York\"}'\n",
    "\n",
    "#parse x\n",
    "y = json.loads(x)\n",
    "\n",
    "#resulting python dictionary\n",
    "print(y[\"age\"])"
   ]
  },
  {
   "cell_type": "code",
   "execution_count": 128,
   "metadata": {},
   "outputs": [
    {
     "name": "stdout",
     "output_type": "stream",
     "text": [
      "{\"name\": \"John\", \"age\": 30, \"city\": \"New York\"}\n"
     ]
    }
   ],
   "source": [
    "import json\n",
    "\n",
    "# a Python object (dict):\n",
    "x = {\"name\" : \"John\",\n",
    "    \"age\": 30, \n",
    "    \"city\" : \"New York\"}\n",
    "\n",
    "#convert to JSON\n",
    "y = json.dumps(x)\n",
    "\n",
    "#the result is JSON string\n",
    "\n",
    "print(y)"
   ]
  },
  {
   "cell_type": "code",
   "execution_count": 129,
   "metadata": {},
   "outputs": [
    {
     "name": "stdout",
     "output_type": "stream",
     "text": [
      "{\"name\": \"John\", \"age\": 30}\n",
      "[\"apple\", \"bananas\"]\n",
      "[\"apple\", \"bananas\"]\n",
      "\"hello\"\n",
      "42\n",
      "31.76\n",
      "true\n",
      "false\n",
      "null\n"
     ]
    }
   ],
   "source": [
    "import json\n",
    "\n",
    "print(json.dumps({\"name\": \"John\", \"age\": 30}))\n",
    "print(json.dumps([\"apple\", \"bananas\"]))\n",
    "print(json.dumps((\"apple\", \"bananas\")))\n",
    "print(json.dumps(\"hello\"))\n",
    "print(json.dumps(42))\n",
    "print(json.dumps(31.76))\n",
    "print(json.dumps(True))\n",
    "print(json.dumps(False))\n",
    "print(json.dumps(None))"
   ]
  },
  {
   "cell_type": "code",
   "execution_count": null,
   "metadata": {},
   "outputs": [],
   "source": []
  }
 ],
 "metadata": {
  "kernelspec": {
   "display_name": "Python 3",
   "language": "python",
   "name": "python3"
  },
  "language_info": {
   "codemirror_mode": {
    "name": "ipython",
    "version": 3
   },
   "file_extension": ".py",
   "mimetype": "text/x-python",
   "name": "python",
   "nbconvert_exporter": "python",
   "pygments_lexer": "ipython3",
   "version": "3.8.3"
  }
 },
 "nbformat": 4,
 "nbformat_minor": 2
}
