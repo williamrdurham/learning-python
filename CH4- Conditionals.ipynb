{
 "cells": [
  {
   "cell_type": "markdown",
   "metadata": {
    "collapsed": false
   },
   "source": [
    "# Chapter 4 - Conditionals Exercises"
   ]
  },
  {
   "cell_type": "markdown",
   "metadata": {
    "collapsed": false
   },
   "source": [
    "### Exercise 1"
   ]
  },
  {
   "cell_type": "code",
   "execution_count": 5,
   "metadata": {
    "collapsed": false
   },
   "outputs": [
    {
     "name": "stdout",
     "output_type": "stream",
     "text": [
      "1 is less than or equal to 2\n"
     ]
    }
   ],
   "source": [
    "#Original part.\n",
    "if 1 > 2:\n",
    "  print(\"1 is greater than 2\")\n",
    "else:\n",
    "  print(\"1 is less than or equal to 2\")"
   ]
  },
  {
   "cell_type": "code",
   "execution_count": 6,
   "metadata": {
    "collapsed": false
   },
   "outputs": [
    {
     "name": "stdout",
     "output_type": "stream",
     "text": [
      "1 is less than or equal to 2.\n"
     ]
    }
   ],
   "source": [
    "#Updated\n",
    "if 1 < 2:\n",
    "    a = True\n",
    "    if a == True:\n",
    "        print(\"1 is less than or equal to 2.\")"
   ]
  },
  {
   "cell_type": "markdown",
   "metadata": {
    "collapsed": false
   },
   "source": [
    "### Exercise 2"
   ]
  },
  {
   "cell_type": "code",
   "execution_count": 7,
   "metadata": {
    "cocalc": {
     "outputs": {
      "0": {
       "name": "input",
       "opts": {
        "password": false,
        "prompt": "Your height in feet is: "
       },
       "output_type": "stream",
       "value": "8"
      }
     }
    },
    "collapsed": false
   },
   "outputs": [
    {
     "name": "stdout",
     "output_type": "stream",
     "text": "Your height in feet is:  8"
    }
   ],
   "source": [
    "feet = int(input(\"Your height in feet is: \"))"
   ]
  },
  {
   "cell_type": "code",
   "execution_count": 9,
   "metadata": {
    "cocalc": {
     "outputs": {
      "0": {
       "name": "input",
       "opts": {
        "password": false,
        "prompt": "and this many inches: "
       },
       "output_type": "stream",
       "value": "0"
      }
     }
    },
    "collapsed": false
   },
   "outputs": [
    {
     "name": "stdout",
     "output_type": "stream",
     "text": "and this many inches:  0"
    }
   ],
   "source": [
    "inches = int(input(\"and this many inches: \"))"
   ]
  },
  {
   "cell_type": "code",
   "execution_count": 10,
   "metadata": {
    "collapsed": false
   },
   "outputs": [
    {
     "name": "stdout",
     "output_type": "stream",
     "text": [
      "You can't ride.  Get out of here before we call your parents.\n"
     ]
    }
   ],
   "source": [
    "if 45 < feet*12+inches and feet*12+inches < 60:\n",
    "    print(\"You can ride!\")\n",
    "else:\n",
    "    print(\"You can't ride.  Get out of here before we call your parents.\")"
   ]
  },
  {
   "cell_type": "markdown",
   "metadata": {
    "collapsed": false
   },
   "source": [
    "### Exercise 3"
   ]
  },
  {
   "cell_type": "code",
   "execution_count": 12,
   "metadata": {
    "cocalc": {
     "outputs": {
      "0": {
       "name": "input",
       "opts": {
        "password": false,
        "prompt": "enter a number: "
       },
       "output_type": "stream",
       "value": "3"
      }
     }
    },
    "collapsed": false
   },
   "outputs": [
    {
     "name": "stdout",
     "output_type": "stream",
     "text": "enter a number:  3"
    },
    {
     "name": "stdout",
     "output_type": "stream",
     "text": [
      "a = 3.0 is positive\n"
     ]
    }
   ],
   "source": [
    "a = float(input(\"enter a number: \"))\n",
    "print(f\"a = {a} is \" + (\"positive\" if a>0 else \"negative\" if a< 0 else \"zero\"))"
   ]
  },
  {
   "cell_type": "markdown",
   "metadata": {
    "collapsed": false
   },
   "source": [
    "### Exercise 4"
   ]
  },
  {
   "cell_type": "code",
   "execution_count": 13,
   "metadata": {
    "cocalc": {
     "outputs": {
      "0": {
       "name": "input",
       "opts": {
        "password": false,
        "prompt": "Enter an integer value"
       },
       "output_type": "stream",
       "value": "3"
      }
     }
    },
    "collapsed": false
   },
   "outputs": [
    {
     "name": "stdout",
     "output_type": "stream",
     "text": "Enter an integer value 3"
    },
    {
     "name": "stdout",
     "output_type": "stream",
     "text": [
      "This number is odd.\n"
     ]
    }
   ],
   "source": [
    "number = input(\"Enter an integer value\")\n",
    "if number.isnumeric() == False:\n",
    "    number = number.replace(\".\", \"\")\n",
    "    if number.isnumeric() == True:\n",
    "        print(\"This number is not an integer.\")\n",
    "    else:\n",
    "        print(\"This is not a number.\")\n",
    "else:\n",
    "    if float(number)%2 == 0:\n",
    "        print(\"This number is even.\")\n",
    "    else:\n",
    "        print(\"This number is odd.\")"
   ]
  },
  {
   "cell_type": "markdown",
   "metadata": {
    "collapsed": false
   },
   "source": [
    "### Exercise 5"
   ]
  },
  {
   "cell_type": "code",
   "execution_count": 14,
   "metadata": {
    "cocalc": {
     "outputs": {
      "0": {
       "name": "input",
       "opts": {
        "password": false,
        "prompt": "Enter a value between zero and one hundred."
       },
       "output_type": "stream",
       "value": "38"
      }
     }
    },
    "collapsed": false
   },
   "outputs": [
    {
     "name": "stdout",
     "output_type": "stream",
     "text": "Enter a value between zero and one hundred. 38"
    },
    {
     "name": "stdout",
     "output_type": "stream",
     "text": [
      "F\n"
     ]
    }
   ],
   "source": [
    "grade = float(input(\"Enter a value between zero and one hundred.\"))\n",
    "if 0 <= grade and grade < 60:\n",
    "    print(\"F\")\n",
    "elif 60 <= grade and grade < 70:\n",
    "    print(\"D\")\n",
    "elif 70 <= grade and grade < 80:\n",
    "    print(\"C.\")\n",
    "elif 80 <= grade and grade < 90:\n",
    "    print(\"You will get a B and cannot get into grad school.\")\n",
    "elif 90 <= grade and grade <= 100:\n",
    "    print(\"A\")\n",
    "else:\n",
    "    print(\"This is not a valid input.\")"
   ]
  },
  {
   "cell_type": "markdown",
   "metadata": {
    "collapsed": false
   },
   "source": [
    "### Exercise 6"
   ]
  },
  {
   "cell_type": "code",
   "execution_count": 10,
   "metadata": {
    "cocalc": {
     "outputs": {
      "0": {
       "name": "input",
       "opts": {
        "password": false,
        "prompt": "Rock, paper, or scissors?"
       },
       "output_type": "stream",
       "value": "rock"
      }
     }
    },
    "collapsed": false
   },
   "outputs": [
    {
     "name": "stdout",
     "output_type": "stream",
     "text": "Rock, paper, or scissors? rock"
    }
   ],
   "source": [
    "playA = input(\"Rock, paper, or scissors?\")"
   ]
  },
  {
   "cell_type": "code",
   "execution_count": 11,
   "metadata": {
    "cocalc": {
     "outputs": {
      "0": {
       "name": "input",
       "opts": {
        "password": false,
        "prompt": "Rock, paper, or scissors?"
       },
       "output_type": "stream",
       "value": "scissors"
      }
     }
    },
    "collapsed": false
   },
   "outputs": [
    {
     "name": "stdout",
     "output_type": "stream",
     "text": "Rock, paper, or scissors? scissors"
    }
   ],
   "source": [
    "playB = input(\"Rock, paper, or scissors?\")"
   ]
  },
  {
   "cell_type": "code",
   "execution_count": 12,
   "metadata": {
    "collapsed": false
   },
   "outputs": [
    {
     "name": "stdout",
     "output_type": "stream",
     "text": [
      "PlayA wins.\n"
     ]
    }
   ],
   "source": [
    "if playA == \"rock\" or playB == \"rock\":\n",
    "    if playA == \"rock\" and playB == \"scissors\":\n",
    "        print(\"PlayA wins.\")\n",
    "    elif playB == \"rock\" and playA == \"scissors\":\n",
    "        print(\"PlayB wins.\")\n",
    "    elif playA == \"paper\" and playB == \"rock\":\n",
    "        print(\"PlayB wins.\")\n",
    "    elif playB == \"rock\" and playB == \"paper\":\n",
    "        print(\"playA wins.\")\n",
    "    elif playB == \"rock\" and playB == \"rock\":\n",
    "        print(\"Draw.\")\n",
    "    else:\n",
    "        print(\"One input is invalid.\")\n",
    "elif playA == \"paper\" or playB == \"paper\":\n",
    "    if playA == \"paper\" and playB == \"scissors\":\n",
    "        print(\"PlayB wins.\")\n",
    "    elif playA == \"scissors\" and playB == \"paper\":\n",
    "        print(\"PlayA wins.\")\n",
    "    elif playA == \"paper\" and playB == \"paper\":\n",
    "        print(\"Draw.\")\n",
    "    else:\n",
    "        print(\"One input is invalid.\")\n",
    "else:\n",
    "    if playA == \"scissors\" and playB == \"scissors\":\n",
    "        print(\"Draw.\")\n",
    "    else:\n",
    "        print(\"One or both inputs are invalid.\")\n"
   ]
  },
  {
   "cell_type": "markdown",
   "metadata": {
    "collapsed": false
   },
   "source": [
    "### Exercise 7"
   ]
  },
  {
   "cell_type": "code",
   "execution_count": 2,
   "metadata": {
    "cocalc": {
     "outputs": {
      "0": {
       "name": "input",
       "opts": {
        "password": false,
        "prompt": "Enter your height in inches: "
       },
       "output_type": "stream",
       "value": "83"
      },
      "1": {
       "name": "input",
       "opts": {
        "password": false,
        "prompt": "Enter your weight in pounds: "
       },
       "output_type": "stream",
       "value": "90"
      }
     }
    },
    "collapsed": false
   },
   "outputs": [
    {
     "name": "stdout",
     "output_type": "stream",
     "text": "Enter your height in inches:  83"
    },
    {
     "name": "stdout",
     "output_type": "stream",
     "text": "Enter your weight in pounds:  90"
    }
   ],
   "source": [
    "#BMI\n",
    "height = float(input(\"Enter your height in inches: \"))\n",
    "weight = float(input(\"Enter your weight in pounds: \"))"
   ]
  },
  {
   "cell_type": "code",
   "execution_count": 3,
   "metadata": {
    "collapsed": false,
    "scrolled": true
   },
   "outputs": [
    {
     "name": "stdout",
     "output_type": "stream",
     "text": [
      "83.0\n",
      "90.0\n",
      "you are underweight.\n"
     ]
    }
   ],
   "source": [
    "print(height)\n",
    "print(weight)\n",
    "BMI = (weight*703)/(height**2)\n",
    "if 0 < BMI and BMI < 18.5:\n",
    "    print(\"you are underweight.\")\n",
    "elif 18.5<= BMI and BMI <24.9:\n",
    "    print(\"you are normal weight.\")\n",
    "elif 24.9<= BMI and BMI < 29.9:\n",
    "    print(\"you are overweight.\")\n",
    "elif 29.9<= BMI:\n",
    "    print(\"you are obese.\")\n",
    "else:\n",
    "    print(\"your entries are not valid.\")"
   ]
  },
  {
   "cell_type": "markdown",
   "metadata": {
    "collapsed": false
   },
   "source": [
    "### Exercise 8"
   ]
  },
  {
   "cell_type": "code",
   "execution_count": 37,
   "metadata": {
    "cocalc": {
     "outputs": {
      "0": {
       "name": "input",
       "opts": {
        "password": false,
        "prompt": "Give me an integer value for a year: "
       },
       "output_type": "stream",
       "value": "1000"
      }
     }
    },
    "collapsed": false
   },
   "outputs": [
    {
     "name": "stdout",
     "output_type": "stream",
     "text": "Give me an integer value for a year:  1000"
    }
   ],
   "source": [
    "year = int(input(\"Give me an integer value for a year: \"))"
   ]
  },
  {
   "cell_type": "code",
   "execution_count": 38,
   "metadata": {
    "collapsed": false
   },
   "outputs": [
    {
     "name": "stdout",
     "output_type": "stream",
     "text": [
      "This is not a leap year.\n"
     ]
    }
   ],
   "source": [
    "if year%400== 0:\n",
    "    print(\"This year is a leap year.\")\n",
    "elif year%4 == 0 and year%100 != 0:\n",
    "    print(\"This year is a leap year.\")\n",
    "else:\n",
    "    (print(\"This is not a leap year.\"))"
   ]
  },
  {
   "cell_type": "markdown",
   "metadata": {
    "collapsed": false
   },
   "source": [
    "### Exercise 9"
   ]
  },
  {
   "cell_type": "code",
   "execution_count": 45,
   "metadata": {
    "cocalc": {
     "outputs": {
      "0": {
       "name": "input",
       "opts": {
        "password": false,
        "prompt": "Give me a month: "
       },
       "output_type": "stream",
       "value": "June"
      },
      "1": {
       "name": "input",
       "opts": {
        "password": false,
        "prompt": "Give me a day: "
       },
       "output_type": "stream",
       "value": "26"
      },
      "2": {
       "name": "input",
       "opts": {
        "password": false,
        "prompt": "Give me a year: "
       },
       "output_type": "stream",
       "value": "1999"
      }
     }
    },
    "collapsed": false
   },
   "outputs": [
    {
     "name": "stdout",
     "output_type": "stream",
     "text": "Give me a month:  June"
    },
    {
     "name": "stdout",
     "output_type": "stream",
     "text": "Give me a day:  26"
    },
    {
     "name": "stdout",
     "output_type": "stream",
     "text": "Give me a year:  1999"
    }
   ],
   "source": [
    "m = input(\"Give me a month: \")\n",
    "d = int(input(\"Give me a day: \"))\n",
    "y = int(input(\"Give me a year: \"))"
   ]
  },
  {
   "cell_type": "code",
   "execution_count": 46,
   "metadata": {
    "collapsed": false
   },
   "outputs": [
   ],
   "source": [
    "# Month code initialization\n",
    "if m.lower() == \"april\" or m.lower() == \"march\":\n",
    "    moco = 0\n",
    "elif m.lower() == \"january\" or m.lower() == \"october\":\n",
    "    moco = 1\n",
    "elif m.lower() == \"may\":\n",
    "    moco = 2\n",
    "elif m.lower() == \"august\":\n",
    "    moco = 3\n",
    "elif m.lower() == \"february\" or m.lower() == \"march\" or m.lower() == \"november\":\n",
    "    moco = 4\n",
    "elif m.lower() == \"june\":\n",
    "    moco = 5\n",
    "elif m.lower() == \"september\" or m.lower() == \"december\":\n",
    "    moco = 6\n",
    "else:\n",
    "    print(\"Your input is not valid, please try again.\")"
   ]
  },
  {
   "cell_type": "code",
   "execution_count": 47,
   "metadata": {
    "collapsed": false
   },
   "outputs": [
    {
     "name": "stdout",
     "output_type": "stream",
     "text": [
      "0\n"
     ]
    }
   ],
   "source": [
    "# Other operations\n",
    "if (y%400 == 0 or (y%4 == 0 and y%100 != 0)) and m.lower() == \"january\" or m.lower() == \"february\":\n",
    "    moco = moco-1\n",
    "# Century offset\n",
    "if y < 1900:\n",
    "    co = 2 \n",
    "elif y > 1999:\n",
    "    co = 1\n",
    "else:\n",
    "    co = 0\n",
    "# Day code calculation\n",
    "str(y)[-2:]\n",
    "lt = int(str(y)[-2:])\n",
    "daco = (lt//4 + lt + moco + co + d)%7\n",
    "print(daco)\n",
    "\n",
    "if daco == 0:\n",
    "    day = \"Saturday\"\n",
    "elif daco == 1:\n",
    "    day = \"Sunday\"\n",
    "elif daco == 2:\n",
    "    day = \"Monday\"\n",
    "elif daco == 3:\n",
    "    day = \"Tuesday\"\n",
    "elif daco == 4:\n",
    "    day = \"Wednesday\"\n",
    "elif daco == 5:\n",
    "    day = \"Thursday\"\n",
    "elif daco == 6:\n",
    "    day = \"Friday\"\n",
    "else:\n",
    "    print(\"Bruh.\")"
   ]
  },
  {
   "cell_type": "code",
   "execution_count": 50,
   "metadata": {
    "collapsed": false
   },
   "outputs": [
    {
     "name": "stdout",
     "output_type": "stream",
     "text": [
      "day: 26\n",
      "month: June\n",
      "year: 1999\n",
      "The day of the week on June 26, 1999 is Saturday\n"
     ]
    }
   ],
   "source": [
    "print(f\"day: {d}\")\n",
    "print(f\"month: {m}\")\n",
    "print(f\"year: {y}\")\n",
    "print(f\"The day of the week on {m} {d}, {y} is {day}\")"
   ]
  },
  {
   "cell_type": "markdown",
   "metadata": {
    "collapsed": false
   },
   "source": [
    "### Exercise 10"
   ]
  },
  {
   "cell_type": "code",
   "execution_count": 9,
   "metadata": {
    "cocalc": {
     "outputs": {
      "0": {
       "name": "input",
       "opts": {
        "password": false,
        "prompt": "Your total score: "
       },
       "output_type": "stream",
       "value": "71"
      }
     }
    },
    "collapsed": false
   },
   "outputs": [
    {
     "name": "stdout",
     "output_type": "stream",
     "text": "Your total score:  71"
    }
   ],
   "source": [
    "i = int(input(\"Your total score: \"))"
   ]
  },
  {
   "cell_type": "code",
   "execution_count": 10,
   "metadata": {
    "cocalc": {
     "outputs": {
      "0": {
       "name": "input",
       "opts": {
        "password": false,
        "prompt": "Your opponent's total score: "
       },
       "output_type": "stream",
       "value": "72"
      }
     }
    },
    "collapsed": false
   },
   "outputs": [
    {
     "name": "stdout",
     "output_type": "stream",
     "text": "Your opponent's total score:  72"
    }
   ],
   "source": [
    "j = int(input(\"Your opponent's total score: \"))"
   ]
  },
  {
   "cell_type": "code",
   "execution_count": 11,
   "metadata": {
    "cocalc": {
     "outputs": {
      "0": {
       "name": "input",
       "opts": {
        "password": false,
        "prompt": "Turn total: "
       },
       "output_type": "stream",
       "value": "3"
      }
     }
    },
    "collapsed": false
   },
   "outputs": [
    {
     "name": "stdout",
     "output_type": "stream",
     "text": "Turn total:  3"
    }
   ],
   "source": [
    "k = int(input(\"Turn total: \"))"
   ]
  },
  {
   "cell_type": "code",
   "execution_count": 13,
   "metadata": {
    "collapsed": false
   },
   "outputs": [
    {
     "name": "stdout",
     "output_type": "stream",
     "text": [
      "Roll!  Roll like your life depends on it!\n"
     ]
    }
   ],
   "source": [
    "if i + k == 100:\n",
    "    print(\"Hold!\")\n",
    "elif i >= 71 or j >= 71:\n",
    "    print(\"Roll!  Roll like your life depends on it!\")\n",
    "elif k <= 21 + round((j-i)/8):\n",
    "    print(\"Roll!\")\n",
    "else:\n",
    "    print(\"Hold.\")"
   ]
  },
  {
   "cell_type": "markdown",
   "metadata": {
    "collapsed": false
   },
   "source": [
    "### Exercise 11"
   ]
  },
  {
   "cell_type": "code",
   "execution_count": 16,
   "metadata": {
    "collapsed": false
   },
   "outputs": [
    {
     "name": "stdout",
     "output_type": "stream",
     "text": [
      "The file does not exist\n"
     ]
    }
   ],
   "source": [
    "import os\n",
    "if os.path.exists(\"demofile.txt\"):\n",
    "  os.remove(\"demofile.txt\")\n",
    "else:\n",
    "  print(\"The file does not exist\")\n",
    "\n",
    "### We can check to see if a file exists using this simple if-else statement.  The file would have to be in the path associated with our python work in order for us to find it."
   ]
  },
  {
   "cell_type": "code",
   "execution_count": 0,
   "metadata": {
    "collapsed": false
   },
   "outputs": [
   ],
   "source": [
   ]
  }
 ],
 "metadata": {
  "kernelspec": {
   "display_name": "Python 3 (system-wide)",
   "language": "python",
   "metadata": {
    "cocalc": {
     "description": "Python 3 programming language",
     "priority": 100,
     "url": "https://www.python.org/"
    }
   },
   "name": "python3"
  },
  "language_info": {
   "codemirror_mode": {
    "name": "ipython",
    "version": 3
   },
   "file_extension": ".py",
   "mimetype": "text/x-python",
   "name": "python",
   "nbconvert_exporter": "python",
   "pygments_lexer": "ipython3",
   "version": "3.6.9"
  }
 },
 "nbformat": 4,
 "nbformat_minor": 4
}