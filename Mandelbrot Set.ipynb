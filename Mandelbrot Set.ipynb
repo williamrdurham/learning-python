{
 "cells": [
  {
   "cell_type": "markdown",
   "metadata": {},
   "source": [
    "# Mandelbrot Set"
   ]
  },
  {
   "cell_type": "code",
   "execution_count": null,
   "metadata": {},
   "outputs": [],
   "source": [
    "maximum = 75\n",
    "##c = complex(0 + 1j)\n",
    "##c = complex(0 + 2j)\n",
    "##c = 0\n",
    "##c = 1\n",
    "##c = complex(1 + 1j)\n",
    "z = 0\n",
    "i = 0\n",
    "while abs(z) < 2 or i < maximum:\n",
    "    z = z**2 + c\n",
    "    print(z)\n",
    "    i+= 1"
   ]
  },
  {
   "cell_type": "code",
   "execution_count": 13,
   "metadata": {},
   "outputs": [
    {
     "ename": "SyntaxError",
     "evalue": "cannot assign to function call (<ipython-input-13-0b7991415653>, line 10)",
     "output_type": "error",
     "traceback": [
      "\u001b[0;36m  File \u001b[0;32m\"<ipython-input-13-0b7991415653>\"\u001b[0;36m, line \u001b[0;32m10\u001b[0m\n\u001b[0;31m    x, complex(y) = np.meshgrid(x, sparse=True)\u001b[0m\n\u001b[0m    ^\u001b[0m\n\u001b[0;31mSyntaxError\u001b[0m\u001b[0;31m:\u001b[0m cannot assign to function call\n"
     ]
    }
   ],
   "source": [
    "import matplotlib.pyplot as plt\n",
    "import numpy as np\n",
    "\n",
    "##cnums = np.arange(5) + 1j * np.arange(6,11)\n",
    "x = np.linspace(-2.1, 0.6, 301)\n",
    "y = complex(np.linspace(-1.1, 1.1, 301))\n",
    "##X = [x.real for x in cnums]\n",
    "##Y = [x.imag for x in cnums]\n",
    "\n",
    "x, y = np.meshgrid(x, sparse=True)\n",
    "\n",
    "for i in range(302):\n",
    "    z = z**2 + c\n",
    "    plt.scatter(x,y, color='red')\n",
    "    plt.show()"
   ]
  },
  {
   "cell_type": "code",
   "execution_count": null,
   "metadata": {},
   "outputs": [],
   "source": []
  }
 ],
 "metadata": {
  "kernelspec": {
   "display_name": "Python 3",
   "language": "python",
   "name": "python3"
  },
  "language_info": {
   "codemirror_mode": {
    "name": "ipython",
    "version": 3
   },
   "file_extension": ".py",
   "mimetype": "text/x-python",
   "name": "python",
   "nbconvert_exporter": "python",
   "pygments_lexer": "ipython3",
   "version": "3.8.2"
  }
 },
 "nbformat": 4,
 "nbformat_minor": 4
}
