{
 "cells": [
  {
   "cell_type": "markdown",
   "metadata": {},
   "source": [
    "# Class 3"
   ]
  },
  {
   "cell_type": "markdown",
   "metadata": {},
   "source": [
    "## Input and output"
   ]
  },
  {
   "cell_type": "code",
   "execution_count": null,
   "metadata": {},
   "outputs": [],
   "source": [
    "# the input() function\n",
    "\n",
    "a = input(\"prompt goes here: \")\n",
    "type(a)"
   ]
  },
  {
   "cell_type": "markdown",
   "metadata": {},
   "source": [
    "# `open()`"
   ]
  },
  {
   "cell_type": "markdown",
   "metadata": {},
   "source": [
    "f = `open`(\"filename.ext\", r/a)\n",
    "\n",
    "r+ -> reading and writing -> overwrite\n",
    "\n",
    "a+ -> appends\n",
    "\n",
    "w -> overwrites everything\n",
    "\n",
    "f.`read`() -> displays, as a string, the contents of the file.\n",
    "print(f.`read`()) displays nicely.\n",
    "\n",
    "f.`close`()\n",
    "\n",
    "# open and close\n",
    "\n",
    "with `open`(\"filename.txt\", \"r\") as f:\n",
    "    print(f.`read`())\n",
    "\n"
   ]
  },
  {
   "cell_type": "markdown",
   "metadata": {},
   "source": [
    "# Write to a file"
   ]
  },
  {
   "cell_type": "code",
   "execution_count": null,
   "metadata": {},
   "outputs": [],
   "source": [
    "with open(\"hello.txt\", \"a+\") as f:\n",
    "    f.write(\"this is some text\\n\")"
   ]
  },
  {
   "cell_type": "code",
   "execution_count": null,
   "metadata": {},
   "outputs": [],
   "source": []
  }
 ],
 "metadata": {
  "kernelspec": {
   "display_name": "Python 3",
   "language": "python",
   "name": "python3"
  }
 },
 "nbformat": 4,
 "nbformat_minor": 4
}
