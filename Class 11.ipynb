{
 "cells": [
  {
   "cell_type": "markdown",
   "metadata": {},
   "source": [
    "# `for` loops"
   ]
  },
  {
   "cell_type": "code",
   "execution_count": 1,
   "metadata": {},
   "outputs": [],
   "source": [
    "i = 0\n",
    "while i < 5:\n",
    "    #code block to \n",
    "    #do something\n",
    "    #with `i`\n",
    "    i += 1"
   ]
  },
  {
   "cell_type": "code",
   "execution_count": 1,
   "metadata": {
    "scrolled": true
   },
   "outputs": [
    {
     "name": "stdout",
     "output_type": "stream",
     "text": [
      "0\n",
      "1\n",
      "2\n",
      "3\n",
      "4\n"
     ]
    }
   ],
   "source": [
    "a = [0,1,2,3,4]\n",
    "for i in a:\n",
    "    print(i)"
   ]
  },
  {
   "cell_type": "code",
   "execution_count": 2,
   "metadata": {},
   "outputs": [
    {
     "data": {
      "text/plain": [
       "55"
      ]
     },
     "execution_count": 2,
     "metadata": {},
     "output_type": "execute_result"
    }
   ],
   "source": [
    "s = 0\n",
    "for i in [1,2,3,4,5,6,7,8,9,10,]:\n",
    "    s += i\n",
    "s"
   ]
  },
  {
   "cell_type": "code",
   "execution_count": 7,
   "metadata": {},
   "outputs": [
    {
     "data": {
      "text/plain": [
       "5050"
      ]
     },
     "execution_count": 7,
     "metadata": {},
     "output_type": "execute_result"
    }
   ],
   "source": [
    "s = 0\n",
    "for i in range(101):\n",
    "    s += i\n",
    "s"
   ]
  },
  {
   "cell_type": "code",
   "execution_count": 12,
   "metadata": {},
   "outputs": [
    {
     "name": "stdout",
     "output_type": "stream",
     "text": [
      "1\n",
      "2\n",
      "3\n",
      "4\n"
     ]
    }
   ],
   "source": [
    "a = [1,2,3,4]\n",
    "for i in a:\n",
    "    print(i)\n",
    "    #a.append(i) #--> a gets longer, cycle repeats without end\n",
    "    #print(a)"
   ]
  },
  {
   "cell_type": "markdown",
   "metadata": {},
   "source": [
    "### Friday"
   ]
  },
  {
   "cell_type": "markdown",
   "metadata": {},
   "source": [
    "#### Zip and enumerate"
   ]
  },
  {
   "cell_type": "code",
   "execution_count": 2,
   "metadata": {},
   "outputs": [
    {
     "data": {
      "text/plain": [
       "[(0, 'f'),\n",
       " (1, 'j'),\n",
       " (2, 'd'),\n",
       " (3, 'f'),\n",
       " (4, 'j'),\n",
       " (5, 'f'),\n",
       " (6, 'e'),\n",
       " (7, 'j'),\n",
       " (8, 'e'),\n",
       " (9, 'i'),\n",
       " (10, 'e'),\n",
       " (11, 'f'),\n",
       " (12, 'j'),\n",
       " (13, 'd'),\n",
       " (14, 'a'),\n",
       " (15, 's'),\n",
       " (16, 'k'),\n",
       " (17, 'j'),\n",
       " (18, 'f'),\n",
       " (19, 'd'),\n",
       " (20, 'l'),\n",
       " (21, 's'),\n",
       " (22, 'j'),\n",
       " (23, 'f'),\n",
       " (24, 'd'),\n",
       " (25, 'k'),\n",
       " (26, 's'),\n",
       " (27, 'a'),\n",
       " (28, 'l'),\n",
       " (29, 'f'),\n",
       " (30, 'd'),\n",
       " (31, 'j'),\n",
       " (32, 'i'),\n",
       " (33, 'o'),\n",
       " (34, 'a')]"
      ]
     },
     "execution_count": 2,
     "metadata": {},
     "output_type": "execute_result"
    }
   ],
   "source": [
    "a = \"fjdfjfejeiefjdaskjfdlsjfdksalfdjioa\"\n",
    "#list(enumerate(a))"
   ]
  },
  {
   "cell_type": "code",
   "execution_count": 3,
   "metadata": {},
   "outputs": [
    {
     "name": "stdout",
     "output_type": "stream",
     "text": [
      "2 3\n"
     ]
    }
   ],
   "source": [
    "c = 2\n",
    "d = 3\n",
    "(e, f) = (c, d)\n",
    "print(e,f)"
   ]
  },
  {
   "cell_type": "code",
   "execution_count": 6,
   "metadata": {},
   "outputs": [],
   "source": [
    "#for (i, char) in enumerate(a):\n",
    "#    print(f'the {i}th character is {char}')"
   ]
  },
  {
   "cell_type": "code",
   "execution_count": 7,
   "metadata": {},
   "outputs": [],
   "source": [
    "#for e in enumerate(a):\n",
    "#    print(e)"
   ]
  },
  {
   "cell_type": "code",
   "execution_count": 12,
   "metadata": {},
   "outputs": [
    {
     "data": {
      "text/plain": [
       "[(0, 'a'),\n",
       " (1, 's'),\n",
       " (2, 'd'),\n",
       " (3, 'f'),\n",
       " (4, 'g'),\n",
       " (5, 'a'),\n",
       " (6, 's'),\n",
       " (7, 'd'),\n",
       " (8, 'f'),\n",
       " (9, 'g')]"
      ]
     },
     "execution_count": 12,
     "metadata": {},
     "output_type": "execute_result"
    }
   ],
   "source": [
    "list(zip(range(10), \"asdfgasdfg\"))"
   ]
  },
  {
   "cell_type": "markdown",
   "metadata": {},
   "source": [
    "#### List comprehension"
   ]
  },
  {
   "cell_type": "code",
   "execution_count": 13,
   "metadata": {},
   "outputs": [
    {
     "data": {
      "text/plain": [
       "[1, 1, 1, 1, 1, 1, 1, 1, 1, 1]"
      ]
     },
     "execution_count": 13,
     "metadata": {},
     "output_type": "execute_result"
    }
   ],
   "source": [
    "[1 for i in range(10)]"
   ]
  },
  {
   "cell_type": "code",
   "execution_count": 14,
   "metadata": {},
   "outputs": [
    {
     "data": {
      "text/plain": [
       "[1, 1, 1, 1, 1, 1, 1, 1, 1, 1]"
      ]
     },
     "execution_count": 14,
     "metadata": {},
     "output_type": "execute_result"
    }
   ],
   "source": [
    "[1]*10"
   ]
  },
  {
   "cell_type": "code",
   "execution_count": 15,
   "metadata": {},
   "outputs": [
    {
     "data": {
      "text/plain": [
       "[0, 1, 4, 9, 16, 25, 36, 49, 64, 81]"
      ]
     },
     "execution_count": 15,
     "metadata": {},
     "output_type": "execute_result"
    }
   ],
   "source": [
    "[i**2 for i in range(10)]"
   ]
  },
  {
   "cell_type": "code",
   "execution_count": 16,
   "metadata": {},
   "outputs": [
    {
     "data": {
      "text/plain": [
       "[0, 0, 0, 0, 0, 0, 0, 0, 0, 0]"
      ]
     },
     "execution_count": 16,
     "metadata": {},
     "output_type": "execute_result"
    }
   ],
   "source": [
    "[0 for _ in range(10)]"
   ]
  },
  {
   "cell_type": "code",
   "execution_count": 18,
   "metadata": {},
   "outputs": [
    {
     "data": {
      "text/plain": [
       "[0, 2, 4, 6, 8]"
      ]
     },
     "execution_count": 18,
     "metadata": {},
     "output_type": "execute_result"
    }
   ],
   "source": [
    "[i for i in range(10) if i%2 == 0]"
   ]
  },
  {
   "cell_type": "code",
   "execution_count": 20,
   "metadata": {},
   "outputs": [
    {
     "data": {
      "text/plain": [
       "[0, 7, 2, 21, 4, 35, 6, 49, 8, 63]"
      ]
     },
     "execution_count": 20,
     "metadata": {},
     "output_type": "execute_result"
    }
   ],
   "source": [
    "[i if i%2 == 0 else i*7 for i in range(10)]"
   ]
  },
  {
   "cell_type": "code",
   "execution_count": 3,
   "metadata": {},
   "outputs": [
    {
     "data": {
      "text/plain": [
       "[[0, 0, 0, 0, 0, 0, 0, 0, 0, 0],\n",
       " [0, 0, 0, 0, 0, 0, 0, 0, 0, 0],\n",
       " [0, 0, 0, 0, 0, 0, 0, 0, 0, 0],\n",
       " [0, 0, 0, 0, 0, 0, 0, 0, 0, 0],\n",
       " [0, 0, 0, 0, 0, 0, 0, 0, 0, 0],\n",
       " [0, 0, 0, 0, 0, 0, 0, 0, 0, 0],\n",
       " [0, 0, 0, 0, 0, 0, 0, 0, 0, 0],\n",
       " [0, 0, 0, 0, 0, 0, 0, 0, 0, 0],\n",
       " [0, 0, 0, 0, 0, 0, 0, 0, 0, 0],\n",
       " [0, 0, 0, 0, 0, 0, 0, 0, 0, 0]]"
      ]
     },
     "execution_count": 3,
     "metadata": {},
     "output_type": "execute_result"
    }
   ],
   "source": [
    "[[0 for j in range(10)] for i in range(10)]"
   ]
  },
  {
   "cell_type": "code",
   "execution_count": 1,
   "metadata": {},
   "outputs": [
    {
     "data": {
      "text/plain": [
       "[0,\n",
       " 1,\n",
       " 2,\n",
       " 3,\n",
       " 4,\n",
       " 5,\n",
       " 6,\n",
       " 7,\n",
       " 8,\n",
       " 9,\n",
       " 1,\n",
       " 2,\n",
       " 3,\n",
       " 4,\n",
       " 5,\n",
       " 6,\n",
       " 7,\n",
       " 8,\n",
       " 9,\n",
       " 10,\n",
       " 2,\n",
       " 3,\n",
       " 4,\n",
       " 5,\n",
       " 6,\n",
       " 7,\n",
       " 8,\n",
       " 9,\n",
       " 10,\n",
       " 11,\n",
       " 3,\n",
       " 4,\n",
       " 5,\n",
       " 6,\n",
       " 7,\n",
       " 8,\n",
       " 9,\n",
       " 10,\n",
       " 11,\n",
       " 12,\n",
       " 4,\n",
       " 5,\n",
       " 6,\n",
       " 7,\n",
       " 8,\n",
       " 9,\n",
       " 10,\n",
       " 11,\n",
       " 12,\n",
       " 13,\n",
       " 5,\n",
       " 6,\n",
       " 7,\n",
       " 8,\n",
       " 9,\n",
       " 10,\n",
       " 11,\n",
       " 12,\n",
       " 13,\n",
       " 14,\n",
       " 6,\n",
       " 7,\n",
       " 8,\n",
       " 9,\n",
       " 10,\n",
       " 11,\n",
       " 12,\n",
       " 13,\n",
       " 14,\n",
       " 15,\n",
       " 7,\n",
       " 8,\n",
       " 9,\n",
       " 10,\n",
       " 11,\n",
       " 12,\n",
       " 13,\n",
       " 14,\n",
       " 15,\n",
       " 16,\n",
       " 8,\n",
       " 9,\n",
       " 10,\n",
       " 11,\n",
       " 12,\n",
       " 13,\n",
       " 14,\n",
       " 15,\n",
       " 16,\n",
       " 17,\n",
       " 9,\n",
       " 10,\n",
       " 11,\n",
       " 12,\n",
       " 13,\n",
       " 14,\n",
       " 15,\n",
       " 16,\n",
       " 17,\n",
       " 18]"
      ]
     },
     "execution_count": 1,
     "metadata": {},
     "output_type": "execute_result"
    }
   ],
   "source": [
    "#[i + j for j in range(10) for i in range(10)]"
   ]
  },
  {
   "cell_type": "code",
   "execution_count": 31,
   "metadata": {},
   "outputs": [
    {
     "data": {
      "text/plain": [
       "[0, 1, 2, 3, 4]"
      ]
     },
     "execution_count": 31,
     "metadata": {},
     "output_type": "execute_result"
    }
   ],
   "source": [
    "[i for i in [j for j in range(5)]]"
   ]
  },
  {
   "cell_type": "markdown",
   "metadata": {},
   "source": [
    "### Tic, Tac, Toe! (Function intro)"
   ]
  },
  {
   "cell_type": "code",
   "execution_count": 8,
   "metadata": {},
   "outputs": [],
   "source": [
    "NONE = 0\n",
    "X = 1\n",
    "O = 2\n",
    "TIE = 3\n",
    "UNFINISHED = 4\n",
    "\n",
    "GROUPS = [[0,1,2], [3,4,5], [6,7,8],\n",
    "          [0,3,6], [2,5,8], [2,5,8],\n",
    "          [2,4,6], [0,4,8]]"
   ]
  },
  {
   "cell_type": "code",
   "execution_count": 31,
   "metadata": {},
   "outputs": [],
   "source": [
    "def get_game_state(board): # board is a one-dimensional array\n",
    "    \"\"\"\n",
    "    board representation:\n",
    "        0 1 2\n",
    "        3 4 5\n",
    "        6 7 8\n",
    "    \"\"\"\n",
    "    # loop through GROUPS to find three in a row\n",
    "        # if one is found, return the value of any of the three-in-a-row entries\n",
    "    # If no t-i-a-r is found\n",
    "        # are there NONEs?\n",
    "            # yes -> return UNFINISHED\n",
    "            # no -> return TIE\n",
    "    for group in GROUPS:\n",
    "        values = [board[i] for i in group]\n",
    "        uniques = []\n",
    "        for val in values:\n",
    "            if val not in uniques:\n",
    "                uniques.append(val)\n",
    "        \n",
    "        if len(uniques) == 1 and uniques[0] != NONE:\n",
    "            return uniques[0]\n",
    "                \n",
    "    return UNFINISHED if NONE in board else TIE #TIE, or UNFINISHED"
   ]
  },
  {
   "cell_type": "code",
   "execution_count": 32,
   "metadata": {},
   "outputs": [],
   "source": [
    "b = [X, O, X,\n",
    "     O, X, O,\n",
    "     O, X, O]"
   ]
  },
  {
   "cell_type": "code",
   "execution_count": 33,
   "metadata": {},
   "outputs": [
    {
     "data": {
      "text/plain": [
       "3"
      ]
     },
     "execution_count": 33,
     "metadata": {},
     "output_type": "execute_result"
    }
   ],
   "source": [
    "winner_of(b)"
   ]
  },
  {
   "cell_type": "code",
   "execution_count": 34,
   "metadata": {},
   "outputs": [],
   "source": [
    "b = [0]* 9\n",
    "game_state = UNFINISHED\n",
    "current_player = X"
   ]
  },
  {
   "cell_type": "code",
   "execution_count": 44,
   "metadata": {
    "scrolled": false
   },
   "outputs": [
    {
     "name": "stdout",
     "output_type": "stream",
     "text": [
      "\n",
      " X | 1 | 2\n",
      "---+---+---\n",
      " 3 | 4 | 5\n",
      "---+---+---\n",
      " 6 | O | 8\n",
      "\n",
      "Current player:  X\n",
      "Enter play: 0\n",
      "Invalid response, try again\n",
      "Enter play: 7\n",
      "Invalid response, try again\n",
      "Enter play: 9\n",
      "Invalid response, try again\n",
      "Enter play: 8\n",
      "\n",
      " X | 1 | 2\n",
      "---+---+---\n",
      " 3 | 4 | 5\n",
      "---+---+---\n",
      " 6 | O | X\n",
      "\n",
      "Current player:  O\n",
      "Enter play: 4\n",
      "\n",
      " X | 1 | 2\n",
      "---+---+---\n",
      " 3 | O | 5\n",
      "---+---+---\n",
      " 6 | O | X\n",
      "\n",
      "Current player:  X\n",
      "Enter play: 1\n",
      "\n",
      " X | X | 2\n",
      "---+---+---\n",
      " 3 | O | 5\n",
      "---+---+---\n",
      " 6 | O | X\n",
      "\n",
      "Current player:  O\n",
      "Enter play: 2\n",
      "\n",
      " X | X | O\n",
      "---+---+---\n",
      " 3 | O | 5\n",
      "---+---+---\n",
      " 6 | O | X\n",
      "\n",
      "Current player:  X\n",
      "Enter play: 6\n",
      "\n",
      " X | X | O\n",
      "---+---+---\n",
      " 3 | O | 5\n",
      "---+---+---\n",
      " X | O | X\n",
      "\n",
      "Current player:  O\n",
      "Enter play: 3\n",
      "\n",
      " X | X | O\n",
      "---+---+---\n",
      " O | O | 5\n",
      "---+---+---\n",
      " X | O | X\n",
      "\n",
      "Current player:  X\n",
      "Enter play: 5\n",
      "Winner:  TIE\n"
     ]
    }
   ],
   "source": [
    "while game_state == UNFINISHED:\n",
    "    # print the board\n",
    "    \"\"\"\n",
    "        0 | 1 | 2\n",
    "        --+---+---\n",
    "        3 | 4 | 5\n",
    "        --+---+---\n",
    "        6 | 7 | 8\n",
    "    \"\"\"\n",
    "    print()\n",
    "    for i in range(3):\n",
    "        print(\" \" + \" | \".join([str(i * 3 + j) if b[i * 3 + j] == NONE else [\"X\", \"O\"][b[i * 3 + j]-1] for j in range(3)]))\n",
    "        if i < 2:\n",
    "            print(\"---+---+---\")\n",
    "    print()\n",
    "    # ask for play\n",
    "    print(\"Current player: \", [\"X\", \"O\"][current_player -1])\n",
    "    response = int(input(\"Enter play: \"))\n",
    "    while response not in list(range(9)) or b[response] != NONE:\n",
    "        print(\"Invalid response, try again\")\n",
    "        response = int(input(\"Enter play: \"))\n",
    "        \n",
    "    # make the play\n",
    "    b[response] = current_player\n",
    "    \n",
    "    # Change players\n",
    "    current_player = X + O - current_player\n",
    "    \n",
    "    # update game state\n",
    "    game_state = get_game_state(b)\n",
    "\n",
    "print(\"Winner: \", [\"X\", \"O\", \"TIE\"][game_state-1])"
   ]
  },
  {
   "cell_type": "code",
   "execution_count": null,
   "metadata": {},
   "outputs": [],
   "source": []
  },
  {
   "cell_type": "code",
   "execution_count": null,
   "metadata": {},
   "outputs": [],
   "source": []
  }
 ],
 "metadata": {
  "kernelspec": {
   "display_name": "Python 3",
   "language": "python",
   "name": "python3"
  },
  "language_info": {
   "codemirror_mode": {
    "name": "ipython",
    "version": 3
   },
   "file_extension": ".py",
   "mimetype": "text/x-python",
   "name": "python",
   "nbconvert_exporter": "python",
   "pygments_lexer": "ipython3",
   "version": "3.8.2"
  }
 },
 "nbformat": 4,
 "nbformat_minor": 4
}
